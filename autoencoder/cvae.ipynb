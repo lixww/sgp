{
 "cells": [
  {
   "cell_type": "markdown",
   "metadata": {
    "colab_type": "text",
    "id": "Ndo4ERqnwQOU"
   },
   "source": [
    "##### Copyright 2018 The TensorFlow Authors."
   ]
  },
  {
   "cell_type": "code",
   "execution_count": 1,
   "metadata": {
    "cellView": "form",
    "colab": {},
    "colab_type": "code",
    "id": "MTKwbguKwT4R"
   },
   "outputs": [],
   "source": [
    "#@title Licensed under the Apache License, Version 2.0 (the \"License\");\n",
    "# you may not use this file except in compliance with the License.\n",
    "# You may obtain a copy of the License at\n",
    "#\n",
    "# https://www.apache.org/licenses/LICENSE-2.0\n",
    "#\n",
    "# Unless required by applicable law or agreed to in writing, software\n",
    "# distributed under the License is distributed on an \"AS IS\" BASIS,\n",
    "# WITHOUT WARRANTIES OR CONDITIONS OF ANY KIND, either express or implied.\n",
    "# See the License for the specific language governing permissions and\n",
    "# limitations under the License."
   ]
  },
  {
   "cell_type": "markdown",
   "metadata": {
    "colab_type": "text",
    "id": "xfNT-mlFwxVM"
   },
   "source": [
    "# Convolutional Variational Autoencoder"
   ]
  },
  {
   "cell_type": "markdown",
   "metadata": {
    "colab_type": "text",
    "id": "0TD5ZrvEMbhZ"
   },
   "source": [
    "<table class=\"tfo-notebook-buttons\" align=\"left\">\n",
    "  <td>\n",
    "    <a target=\"_blank\" href=\"https://www.tensorflow.org/tutorials/generative/cvae\">\n",
    "    <img src=\"https://www.tensorflow.org/images/tf_logo_32px.png\" />\n",
    "    View on TensorFlow.org</a>\n",
    "  </td>\n",
    "  <td>\n",
    "    <a target=\"_blank\" href=\"https://colab.research.google.com/github/tensorflow/docs/blob/master/site/en/tutorials/generative/cvae.ipynb\">\n",
    "    <img src=\"https://www.tensorflow.org/images/colab_logo_32px.png\" />\n",
    "    Run in Google Colab</a>\n",
    "  </td>\n",
    "  <td>\n",
    "    <a target=\"_blank\" href=\"https://github.com/tensorflow/docs/blob/master/site/en/tutorials/generative/cvae.ipynb\">\n",
    "    <img src=\"https://www.tensorflow.org/images/GitHub-Mark-32px.png\" />\n",
    "    View source on GitHub</a>\n",
    "  </td>\n",
    "  <td>\n",
    "    <a href=\"https://storage.googleapis.com/tensorflow_docs/docs/site/en/tutorials/generative/cvae.ipynb\"><img src=\"https://www.tensorflow.org/images/download_logo_32px.png\" />Download notebook</a>\n",
    "  </td>\n",
    "</table>"
   ]
  },
  {
   "cell_type": "markdown",
   "metadata": {
    "colab_type": "text",
    "id": "ITZuApL56Mny"
   },
   "source": [
    "![evolution of output during training](https://tensorflow.org/images/autoencoders/cvae.gif)\n",
    "\n",
    "This notebook demonstrates how to generate images of handwritten digits by training a Variational Autoencoder ([1](https://arxiv.org/abs/1312.6114), [2](https://arxiv.org/abs/1401.4082)).\n",
    "\n"
   ]
  },
  {
   "cell_type": "code",
   "execution_count": 2,
   "metadata": {
    "colab": {},
    "colab_type": "code",
    "id": "P-JuIu2N_SQf"
   },
   "outputs": [],
   "source": [
    "# to generate gifs\n",
    "!pip install -q imageio"
   ]
  },
  {
   "cell_type": "markdown",
   "metadata": {
    "colab_type": "text",
    "id": "e1_Y75QXJS6h"
   },
   "source": [
    "## Import TensorFlow and other libraries"
   ]
  },
  {
   "cell_type": "code",
   "execution_count": 17,
   "metadata": {},
   "outputs": [],
   "source": [
    "from __future__ import absolute_import, division, print_function, unicode_literals\n",
    "\n",
    "try:\n",
    "  # %tensorflow_version only exists in Colab.\n",
    "  %tensorflow_version 2.x\n",
    "except Exception:\n",
    "  pass\n",
    "import tensorflow as tf\n",
    "\n",
    "import os\n",
    "import time\n",
    "import numpy as np\n",
    "import glob\n",
    "import matplotlib.pyplot as plt\n",
    "import PIL\n",
    "import imageio\n",
    "\n",
    "from IPython import display"
   ]
  },
  {
   "cell_type": "markdown",
   "metadata": {
    "colab_type": "text",
    "id": "iYn4MdZnKCey"
   },
   "source": [
    "## Load the MNIST dataset\n",
    "Each MNIST image is originally a vector of 784 integers, each of which is between 0-255 and represents the intensity of a pixel. We model each pixel with a Bernoulli distribution in our model, and we statically binarize the dataset."
   ]
  },
  {
   "cell_type": "code",
   "execution_count": 18,
   "metadata": {},
   "outputs": [],
   "source": [
    "(train_images, _), (test_images, _) = tf.keras.datasets.mnist.load_data()"
   ]
  },
  {
   "cell_type": "code",
   "execution_count": 19,
   "metadata": {},
   "outputs": [],
   "source": [
    "train_images = train_images.reshape(train_images.shape[0], 28, 28, 1).astype('float32')\n",
    "test_images = test_images.reshape(test_images.shape[0], 28, 28, 1).astype('float32')\n",
    "\n",
    "# Normalizing the images to the range of [0., 1.]\n",
    "train_images /= 255.\n",
    "test_images /= 255.\n",
    "\n",
    "# Binarization\n",
    "train_images[train_images >= .5] = 1.\n",
    "train_images[train_images < .5] = 0.\n",
    "test_images[test_images >= .5] = 1.\n",
    "test_images[test_images < .5] = 0."
   ]
  },
  {
   "cell_type": "code",
   "execution_count": 20,
   "metadata": {},
   "outputs": [],
   "source": [
    "TRAIN_BUF = 60000\n",
    "BATCH_SIZE = 100\n",
    "\n",
    "TEST_BUF = 10000"
   ]
  },
  {
   "cell_type": "markdown",
   "metadata": {
    "colab_type": "text",
    "id": "PIGN6ouoQxt3"
   },
   "source": [
    "## Use *tf.data* to create batches and shuffle the dataset"
   ]
  },
  {
   "cell_type": "code",
   "execution_count": 21,
   "metadata": {},
   "outputs": [],
   "source": [
    "train_dataset = tf.data.Dataset.from_tensor_slices(train_images).shuffle(TRAIN_BUF).batch(BATCH_SIZE)\n",
    "test_dataset = tf.data.Dataset.from_tensor_slices(test_images).shuffle(TEST_BUF).batch(BATCH_SIZE)"
   ]
  },
  {
   "cell_type": "markdown",
   "metadata": {
    "colab_type": "text",
    "id": "THY-sZMiQ4UV"
   },
   "source": [
    "## Wire up the generative and inference network with *tf.keras.Sequential*\n",
    "\n",
    "In our VAE example, we use two small ConvNets for the generative and inference network. Since these neural nets are small, we use `tf.keras.Sequential` to simplify our code. Let $x$ and $z$ denote the observation and latent variable respectively in the following descriptions.\n",
    "\n",
    "### Generative Network\n",
    "This defines the generative model which takes a latent encoding as input, and outputs the parameters for a conditional distribution of the observation, i.e. $p(x|z)$. Additionally, we use a unit Gaussian prior $p(z)$ for the latent variable.\n",
    "\n",
    "### Inference Network\n",
    "This defines an approximate posterior distribution $q(z|x)$, which takes as input an observation and outputs a set of parameters for the conditional distribution of the latent representation. In this example, we simply model this distribution as a diagonal Gaussian. In this case, the inference network outputs the mean and log-variance parameters of a factorized Gaussian (log-variance instead of the variance directly is for numerical stability).\n",
    "\n",
    "### Reparameterization Trick\n",
    "During optimization, we can sample from $q(z|x)$ by first sampling from a unit Gaussian, and then multiplying by the standard deviation and adding the mean. This ensures the gradients could pass through the sample to the inference network parameters.\n",
    "\n",
    "### Network architecture\n",
    "For the inference network, we use two convolutional layers followed by a fully-connected layer. In the generative network, we mirror this architecture by using a fully-connected layer followed by three convolution transpose layers (a.k.a. deconvolutional layers in some contexts). Note, it's common practice to avoid using batch normalization when training VAEs, since the additional stochasticity due to using mini-batches may aggravate instability on top of the stochasticity from sampling."
   ]
  },
  {
   "cell_type": "code",
   "execution_count": 22,
   "metadata": {},
   "outputs": [],
   "source": [
    "class CVAE(tf.keras.Model):\n",
    "  def __init__(self, latent_dim):\n",
    "    super(CVAE, self).__init__()\n",
    "    self.latent_dim = latent_dim\n",
    "    self.inference_net = tf.keras.Sequential(\n",
    "      [\n",
    "          tf.keras.layers.InputLayer(input_shape=(28, 28, 1)),\n",
    "          tf.keras.layers.Conv2D(\n",
    "              filters=32, kernel_size=3, strides=(2, 2), activation='relu'),\n",
    "          tf.keras.layers.Conv2D(\n",
    "              filters=64, kernel_size=3, strides=(2, 2), activation='relu'),\n",
    "          tf.keras.layers.Flatten(),\n",
    "          # No activation\n",
    "          tf.keras.layers.Dense(latent_dim + latent_dim),\n",
    "      ]\n",
    "    )\n",
    "\n",
    "    self.generative_net = tf.keras.Sequential(\n",
    "        [\n",
    "          tf.keras.layers.InputLayer(input_shape=(latent_dim,)),\n",
    "          tf.keras.layers.Dense(units=7*7*32, activation=tf.nn.relu),\n",
    "          tf.keras.layers.Reshape(target_shape=(7, 7, 32)),\n",
    "          tf.keras.layers.Conv2DTranspose(\n",
    "              filters=64,\n",
    "              kernel_size=3,\n",
    "              strides=(2, 2),\n",
    "              padding=\"SAME\",\n",
    "              activation='relu'),\n",
    "          tf.keras.layers.Conv2DTranspose(\n",
    "              filters=32,\n",
    "              kernel_size=3,\n",
    "              strides=(2, 2),\n",
    "              padding=\"SAME\",\n",
    "              activation='relu'),\n",
    "          # No activation\n",
    "          tf.keras.layers.Conv2DTranspose(\n",
    "              filters=1, kernel_size=3, strides=(1, 1), padding=\"SAME\"),\n",
    "        ]\n",
    "    )\n",
    "\n",
    "  @tf.function\n",
    "  def sample(self, eps=None):\n",
    "    if eps is None:\n",
    "      eps = tf.random.normal(shape=(100, self.latent_dim))\n",
    "    return self.decode(eps, apply_sigmoid=True)\n",
    "\n",
    "  def encode(self, x):\n",
    "    mean, logvar = tf.split(self.inference_net(x), num_or_size_splits=2, axis=1)\n",
    "    return mean, logvar\n",
    "\n",
    "  def reparameterize(self, mean, logvar):\n",
    "    eps = tf.random.normal(shape=mean.shape)\n",
    "    return eps * tf.exp(logvar * .5) + mean\n",
    "\n",
    "  def decode(self, z, apply_sigmoid=False):\n",
    "    logits = self.generative_net(z)\n",
    "    if apply_sigmoid:\n",
    "      probs = tf.sigmoid(logits)\n",
    "      return probs\n",
    "\n",
    "    return logits"
   ]
  },
  {
   "cell_type": "markdown",
   "metadata": {
    "colab_type": "text",
    "id": "0FMYgY_mPfTi"
   },
   "source": [
    "## Define the loss function and the optimizer\n",
    "\n",
    "VAEs train by maximizing the evidence lower bound (ELBO) on the marginal log-likelihood:\n",
    "\n",
    "$$\\log p(x) \\ge \\text{ELBO} = \\mathbb{E}_{q(z|x)}\\left[\\log \\frac{p(x, z)}{q(z|x)}\\right].$$\n",
    "\n",
    "In practice, we optimize the single sample Monte Carlo estimate of this expectation:\n",
    "\n",
    "$$\\log p(x| z) + \\log p(z) - \\log q(z|x),$$\n",
    "where $z$ is sampled from $q(z|x)$.\n",
    "\n",
    "**Note**: we could also analytically compute the KL term, but here we incorporate all three terms in the Monte Carlo estimator for simplicity."
   ]
  },
  {
   "cell_type": "code",
   "execution_count": 23,
   "metadata": {},
   "outputs": [],
   "source": [
    "optimizer = tf.keras.optimizers.Adam(1e-4)\n",
    "\n",
    "def log_normal_pdf(sample, mean, logvar, raxis=1):\n",
    "  log2pi = tf.math.log(2. * np.pi)\n",
    "  return tf.reduce_sum(\n",
    "      -.5 * ((sample - mean) ** 2. * tf.exp(-logvar) + logvar + log2pi),\n",
    "      axis=raxis)\n",
    "\n",
    "@tf.function\n",
    "def compute_loss(model, x):\n",
    "  mean, logvar = model.encode(x)\n",
    "  z = model.reparameterize(mean, logvar)\n",
    "  x_logit = model.decode(z)\n",
    "\n",
    "  cross_ent = tf.nn.sigmoid_cross_entropy_with_logits(logits=x_logit, labels=x)\n",
    "  logpx_z = -tf.reduce_sum(cross_ent, axis=[1, 2, 3])\n",
    "  logpz = log_normal_pdf(z, 0., 0.)\n",
    "  logqz_x = log_normal_pdf(z, mean, logvar)\n",
    "  return -tf.reduce_mean(logpx_z + logpz - logqz_x)\n",
    "\n",
    "@tf.function\n",
    "def compute_apply_gradients(model, x, optimizer):\n",
    "  with tf.GradientTape() as tape:\n",
    "    loss = compute_loss(model, x)\n",
    "  gradients = tape.gradient(loss, model.trainable_variables)\n",
    "  optimizer.apply_gradients(zip(gradients, model.trainable_variables))"
   ]
  },
  {
   "cell_type": "markdown",
   "metadata": {
    "colab_type": "text",
    "id": "Rw1fkAczTQYh"
   },
   "source": [
    "## Training\n",
    "\n",
    "* We start by iterating over the dataset\n",
    "* During each iteration, we pass the image to the encoder to obtain a set of mean and log-variance parameters of the approximate posterior $q(z|x)$\n",
    "* We then apply the *reparameterization trick* to sample from $q(z|x)$\n",
    "* Finally, we pass the reparameterized samples to the decoder to obtain the logits of the generative distribution $p(x|z)$\n",
    "* **Note:** Since we use the dataset loaded by keras with 60k datapoints in the training set and 10k datapoints in the test set, our resulting ELBO on the test set is slightly higher than reported results in the literature which uses dynamic binarization of Larochelle's MNIST.\n",
    "\n",
    "## Generate Images\n",
    "\n",
    "* After training, it is time to generate some images\n",
    "* We start by sampling a set of latent vectors from the unit Gaussian prior distribution $p(z)$\n",
    "* The generator will then convert the latent sample $z$ to logits of the observation, giving a distribution $p(x|z)$\n",
    "* Here we plot the probabilities of Bernoulli distributions\n"
   ]
  },
  {
   "cell_type": "code",
   "execution_count": 24,
   "metadata": {},
   "outputs": [],
   "source": [
    "epochs = 100\n",
    "latent_dim = 50\n",
    "num_examples_to_generate = 16\n",
    "\n",
    "# keeping the random vector constant for generation (prediction) so\n",
    "# it will be easier to see the improvement.\n",
    "random_vector_for_generation = tf.random.normal(\n",
    "    shape=[num_examples_to_generate, latent_dim])\n",
    "model = CVAE(latent_dim)"
   ]
  },
  {
   "cell_type": "code",
   "execution_count": 25,
   "metadata": {},
   "outputs": [],
   "source": [
    "def generate_and_save_images(model, epoch, test_input):\n",
    "  predictions = model.sample(test_input)\n",
    "  fig = plt.figure(figsize=(4,4))\n",
    "\n",
    "  for i in range(predictions.shape[0]):\n",
    "      plt.subplot(4, 4, i+1)\n",
    "      plt.imshow(predictions[i, :, :, 0], cmap='gray')\n",
    "      plt.axis('off')\n",
    "\n",
    "  # tight_layout minimizes the overlap between 2 sub-plots\n",
    "  plt.savefig('image_at_epoch_{:04d}.png'.format(epoch))\n",
    "  plt.show()"
   ]
  },
  {
   "cell_type": "code",
   "execution_count": 26,
   "metadata": {},
   "outputs": [
    {
     "name": "stdout",
     "output_type": "stream",
     "text": "Epoch: 100, Test set ELBO: -78.61981964111328, time elapse for current epoch 40.20360493659973\n"
    },
    {
     "data": {
      "image/png": "[encoded data removed]",
      "image/svg+xml": "<?xml version=\"1.0\" encoding=\"utf-8\" standalone=\"no\"?>\n<!DOCTYPE svg PUBLIC \"-//W3C//DTD SVG 1.1//EN\"\n  \"http://www.w3.org/Graphics/SVG/1.1/DTD/svg11.dtd\">\n<!-- Created with matplotlib (https://matplotlib.org/) -->\n<svg height=\"231.84pt\" version=\"1.1\" viewBox=\"0 0 236.347826 231.84\" width=\"236.347826pt\" xmlns=\"http://www.w3.org/2000/svg\" xmlns:xlink=\"http://www.w3.org/1999/xlink\">\n <defs>\n  <style type=\"text/css\">\n*{stroke-linecap:butt;stroke-linejoin:round;}\n  </style>\n </defs>\n <g id=\"figure_1\">\n  <g id=\"patch_1\">\n   <path d=\"M 0 231.84 \nL 236.347826 231.84 \nL 236.347826 0 \nL 0 0 \nz\n\" style=\"fill:none;\"/>\n  </g>\n  <g id=\"axes_1\">\n   <g clip-path=\"url(#p4444c433c8)\">\n    <image height=\"48\" id=\"image3ed1b6bf54\" transform=\"scale(1 -1)translate(0 -48)\" width=\"48\" x=\"7.2\" xlink:href=\"data:image/png;base64,\niVBORw0KGgoAAAANSUhEUgAAADAAAAAwCAYAAABXAvmHAAAABHNCSVQICAgIfAhkiAAABEFJREFUaIHtmcsvM10cxz8zo25FXRJCSWjEZSNuKxsLGxGJjbCSCGJn5R94l2JvYWHD6llbIRILcYnEQgRBSJQFFijV0nbOu5jnnCn6UI++8Tb6TSaTtjNnzm++39+1GiBIYujfvYGvIi2Ri2maps5CvCT29edEISEGGIYBQEFBAQDNzc04HA4Ajo6OADg/PycYDAK2MYkwKiUhsBkYGBgAYGxsDKfTCcDJyQkA4+Pj7O7uAigmwuEwYDEh2dB1651qmkYkEvnw2SkGAMrLywHo7e0FoKysTLGSnZ0NQE9PD2dnZwA8PT29WUMGgLQ0a0sOh0MxIBmLhRQDYEef4+NjAOrr68nLywMgIyMDgJqaGqV50zSBl1FIar+oqAiAvLw8vF4vYLPzp6glvno4nU7hdDqF2+0WbrdbjIyMCJ/PJ3w+nwgGgyIYDIqZmRnhcrmEy+USmqYJTdNerGEYhjAMQ7S1tYm2tjYxOzsrPB6P8Hg8Ma+XR9JLSCMBtZB0WCmDzMxMFhYWAGhtbQVgd3eXzs5OAK6vr4HYksjNzVX3HRwcAHB1dQUQM6wmPQMG8E8iFpLJSAhBOBwmEAiwtbVFd3c3pmlSXFzM7e0tTU1NrK+vx6yXwHLwcDjM5eUlDw8PBAKBmE4vkRAJSelEG5OTkwPA5OQkAMPDwzw8PADQ1dUFwNbWltq02lBUxImnVkp6CX2JAem8tbW1AKSnpwPg9XoJhUKAnaVnZmZoaWkBrMoUYHR0FIDt7W2VbeU5mpX3kPQM/HUmdjgcrK2tAdDU1ATY+r2/v2djYwOA1dVV+2G/65yqqioA5ufnAZidnVW+cnp6+ql9JD0D8Jflw/T0tIgHkUhERCIREQqF/niN3+8X7e3tor29Xei6LnRdj3sfn5aQlEF/f39c18sQ+zrURiMrK0s5/WfbzKSX0KcZkOXxR5Bh8Pb2FrBC5/7+PoAKp5WVlYDl/DIUr6+vf2o/P48BWRFOTEwwODgIQEVFBWC3j2BreW9vD4C+vj5VVcrfqqurAZieno6b2df4dCaW2TcrK4vCwsIXG19aWgLs7Au2lIaGhpibm3vxncwbHo+H0tJSADY3NwGUU3+EpJdQXAzouq7Cp2QgulqU57q6OgBWVlZUnyxhmqYKvYuLiwA8Pz8DlpRkL7yzswPA3d1dXPVQ0jMQlxPruq7qezlxc7lcqr6Xji3f4uHhoWolo9vNX79+AXBxcQGgWsaSkhLVZk5NTQGwvLys1n+PiZ/BgGmaSq/5+fmAFTo7OjoAaGxsBKChoQGw2JERJhqynCgrKwPseZLP51NT7Oh5qcR7c6G4DZDjwPv7ewD8fr+iXT40ehQoG5PHx0fAyshytCidWOYIr9er1r25uQGsMJpqKWPe8JtOXdffVJjyN8Mw3owRTdP8T/6l+XkM/N+Q9AykDPhupAz4bqQM+G6kDPhu/Avaul8bddYEGAAAAABJRU5ErkJggg==\" y=\"-6.469565\"/>\n   </g>\n  </g>\n  <g id=\"axes_2\">\n   <g clip-path=\"url(#p173092fd47)\">\n    <image height=\"48\" id=\"image11e7a1f8c1\" transform=\"scale(1 -1)translate(0 -48)\" width=\"48\" x=\"65.426087\" xlink:href=\"data:image/png;base64,\niVBORw0KGgoAAAANSUhEUgAAADAAAAAwCAYAAABXAvmHAAAABHNCSVQICAgIfAhkiAAABDNJREFUaIHtmc0va10Uxn+nH0o5qYaU+mjqViRCfYROhJEYMJAgYtChmTkGJu/AVEzEwFCNJAb+AAOJgURq4iuRIFIREdRnqbbnvIO++1Qvrrb33ngbnuSkTbv3Pmud9axnrb2PBKhkMXSfbcDvIusdMGQ6UZIkJEkCIC8vDwCn0wmA1WolGAwCcHJyAsDt7S2q+ufZ+nUjYDKZGB4eBmBkZASAmpoaAHQ6HYqiAHB3dwfA6Ogo8/PzAEQikcwt/glZHwGIy2jKlyRJqiRJamtrqxoIBNRAIKAqiqIqiqL+CtFoVPX5fKrP51MNBoNqMBjSuu97V9ZHIO0c0OniPnd1dZGfnw9ALBZ7NUaME9Dr9Xi9XgDW1tYAmJubA/gtdZJIsxJbLBYAZmZmKCkpAaCwsBCAs7MzAFwuFw6HA0BzUkguwP39PQCVlZUAXF9fZ2p/9idx2hQqKCgAwO/3s7e3B8Dm5iYAj4+PQDxKbW1tAExNTQFQUVGhRUGsMTo6CsDExETGDmR9BFLOAZGUVVVVADgcDra2toAEh0XxkiQJvV4PJIrbwsICjY2NSWuen58DaLn0Vx0wmUwATE5OAlBaWsr09DSARqVwOAwkq0pOTg4AHo+HlZWVpN+Ew0ajUfueLr4OhcrLywE4ODgA4k9RUKCnpweA7e1tAJ6fnxM3+C9xzWYzGxsbANTW1iatbbfbNQlOF1kfgZRlVEik0WgE4k/WZrMB0N7eDsD+/j4Q7zZFHojP5+dnbW/wcwTcbvfXjUDKDgSDQYLBIKFQiFAoBCR2ZbIsI8sykUjkVa8vxhiNxjd7JIDq6uqMHUiZQoIKY2NjAMzOzmr/tbS0aMa+NBoSkul0Ot81VPRSmSDrKZR2NyqS+PLyElmWgcS28cePH0C8MovCJzrOzs5OxsfHgYQkC+zu7tLU1AS8bs0/QtZHQA/8k84ERVFQFAW/34/X60VVVQwGA0ajkVAohMfjYWdnh+LiYmRZpqOjA4fDQUNDA7m5udzc3GCxWAiHw0iSRCwWQ5Zljo+Pqa+v1/qrVJE2hQTMZjMXFxdA4lxIVOClpSWNVoJKh4eHmkK5XC4Auru7AbDZbNrc5uZmIFFTPkLWUyjjCOh0Oq0XKioqSvpPURStVpyengKwuLjI+vo6AAZDXL2HhoYAGBgY0ORWRM5ut/Pw8PCxHZkY/39CxhGAONcB+vv73x0jCmA4HNY2PkdHRwDapkck+EssLy/T19eXtMZb+NoRqKurA9Ck7+XRSSoQT/ateU9PT1rBu7q6eneNjA93ISF1YiPjdrvTmv8rh+/u7lKqyl+bQgJWqxWA3t5eAMrKyrQXHEIKq6qqGBwcBBIvQkQBfNm93tzcANDX18fq6irwncR/8eYv9g+iuEWjUYCUj1k+1YE/gayn0LcDn41vBz4b3w58NrLegX8B83W7DXQ3pE4AAAAASUVORK5CYII=\" y=\"-6.469565\"/>\n   </g>\n  </g>\n  <g id=\"axes_3\">\n   <g clip-path=\"url(#p028bc43a87)\">\n    <image height=\"48\" id=\"imagec9e0739550\" transform=\"scale(1 -1)translate(0 -48)\" width=\"48\" x=\"123.652174\" xlink:href=\"data:image/png;base64,\niVBORw0KGgoAAAANSUhEUgAAADAAAAAwCAYAAABXAvmHAAAABHNCSVQICAgIfAhkiAAAA9BJREFUaIHtmE8odF8Yxz/zx7hkkFGIJhQpEwsrlpIdKysb2RnFSpLsrSQpKUXNAhulWFEWNhQbMylKsjEpwgxjxsyY81vczhlef94ZQ975jW9Nd7r3nHvu83y/z3nO8xgAQRrD+NMfkCrS3gDzdy9gMBjUfyG+Xq2/DLwFk8lEZ2cnAGNjYwD4fD76+/sBOD09BSASiQCpMZP2DBj4wm20sLAQAI/HQ3l5ub7AsxiQ8Pv9AKysrADgcrnY29sD4OHhAUiclV8GAPLy8gA4OzsDwGazJTTv6ekJ0BmZmpoCUNfb29uE3vElQTwwMADEDQmFQoTDYX0Bs75EVlYWJpPpxTwpE03TaG9vB2B+fh6Au7s7ZeBHSHsJpcSA9G5PTw8AR0dHAHR1dXFzcwPEWenu7qavrw+A4uJiAGKxGKDLxe12AxkYxCkx0NbWBkBpaSkAw8PDAJycnKgx19fXACwsLCidl5WVAWA06v4Lh8NsbGwA8S1WsvNtBhgMBpaWlgDIz88HICcn593xFRUVNDU1AXpAP8fj4yNbW1tAPDsnirSXEOh5IOlfQ0OD+BPRaFREo1HhcDiEpmlC0zRht9uF3W4XBwcHr8ZLTE5OfuobAJG5DKytrb3rUSGECAaDIhgMikAgIAKBwJtj/H6/8Pv9wmq1Zi4Dn96F5MnzPWia9u4zmaR6e3sB/diQCj5FndPpVBJIFl6vV3i9XmG1WlOSDxkpIVmg7OzsMDQ0BEBHRwcAjY2NAJSUlKhk9bygeZ6VgYROm39D5jGQnZ2trtvb2wAsLy+/GFNTU8P09DSAOj4YjUZ8Ph8AFxcX+uLm1MuRhCsyWYzIA1lLSwubm5sA7O7uAvEDmNFopLq6GogbV19fryTj8XgAcDqdALjdblUAJYv/t4Sk16uqqlTRMjg4COhebm5uBmBkZASI93vMZjOVlZVAfI+PxWIqsB0OBwDj4+MATExMsL+/D8D9/T2gB7hkVF7FG0VO2jPwYQzI3s7MzIzSvgxig8GgPBMKhQC4uroCwGKxqHG5ubnq3p89Inn2X19fZ3R0FIh3NiKRSAYX9dJTslSsq6t7VUUJIdQ46WW73Z7U4lLTLpeL4+PjF/cSxZsGyJecn58DcHh4qAJaGnJ5eak6D7W1tYCegSEus79hdnYWgNXV1aQ++jnSXkIfBrH0ekFBARaLBUBl03A4/KpzILsMRUVFLC4uAtDa2qqeSWbn5uYAVJ8oWdm8WPPTM/8RfGl7/S3ImLHZbIq9YDD4Ze//dgO+G2kvoV8Dfhq/Bvw0fg34aaS9Af8BMZNb4E6j6fEAAAAASUVORK5CYII=\" y=\"-6.469565\"/>\n   </g>\n  </g>\n  <g id=\"axes_4\">\n   <g clip-path=\"url(#p936eaa491d)\">\n    <image height=\"48\" id=\"image028a60adef\" transform=\"scale(1 -1)translate(0 -48)\" width=\"48\" x=\"181.878261\" xlink:href=\"data:image/png;base64,\niVBORw0KGgoAAAANSUhEUgAAADAAAAAwCAYAAABXAvmHAAAABHNCSVQICAgIfAhkiAAABMNJREFUaIHtmM1PE10Uxn93Om0tLQoKBKJCoiGaYIzKR2CjAWNYqRBXuHbpxrBgizEm7PwD3BjXmujCaFxJohE2YkAMC0ITGz9KC8aW0mmnneNi3hk+AlpaDe8En2Rykzsz955zn+fcc89VgOBhaLttQKX458Buw/MO6JX8fPjwYQDu3bsHQHt7OwDv3r3j7t27AExPTwNgWVYlU20LzzMA9ja646e6ulpisZjEYjHZCpZliWVZEo/HJR6Py+nTp0XTNNE0raz5tns8z0DZMdDe3k5dXd2W7yzLQikFwKFDhwB4/vw5d+7cAeDVq1cAxGIxAFZXVxEpL5/u2AHHsFOnTpHJZAAIBAKuIQDJZBLDMABYXFwE4P379yQSCQCqqqo2tMVikXw+D7DBkVKc2nsS8vv9AHz48IG3b98C0NnZCayxo+s6b968AXBlk0wmyeVywNrKbm43wxnvV0x4ngHFDk+joVAIgAMHDnDkyBEAhoaGALh8+TIAzc3NfPv2DYDz588D8OXLFwqFwh8xej18wOjvPlJKsX//foLBIPX19UQiEZRSZLNZVldXqampYWlpiZaWFtLpNEePHiUcDhOJRFhYWKC1tZWpqam/ko09L6GSgjgYDDI2NgZAX18fYO/rHz9+BOwtFXAlYpomwWAQgCtXrgDw4MEDTNP8g6bb2BsMWJZFdXU1AMePHwfgxo0bfPr0CYB4PA6sbXuGYbjb7dmzZwG4cOECL1++BEpLUKXC8wyUtAsB5PN5ZmdnGRwcpFgssm/fPjRNIxwOs7CwQD6fJxqNkkwmERHC4TCGYRAOhwkEAly7dg3TNOnp6WFiYsJlq1KUnAd03Vbb7du3ARgZGXGD8tmzZwA8fPgQsCXV1NQEwMDAAADXr193ZfX69WtgLUdUIinPSwh2WED4/X7x+/3y+PFjyWQykslkJBqNSjQaleHhYRkeHpba2lrx+Xzi8/lE13XRdV26urrENE0xTdMtehKJhCQSCQkGg3u3oIEyPa+qqpLx8XEZHx+XXC4nuVxOUqmUpFIp6e/vF6WUKKU2/BMKhSQUCrnfO8hkMu67Mmwpvx7t7u6W7u5uyWazks1m3Tp4bm7OldpW/0UiEYlEImIYhhiGISIi6XRa0um0BAIBCQQCe0dCOz5Or0dtbS2AW7ycOHECsDP3zZs3Abh//77btxnOGWpmZsbtm5+fd8cq5fTqeQZKzsRbQSlFoVDAMAwmJycJhUJEo1EKhQJtbW2cO3cOv99PZ2cniUSCdDqNpmkopVBKkUql+P79O1evXqWhoQGwWT148CCfP39mamrqtxnb8wxUFAPO0cC5+3GOBKZpcvHiRQBu3boF2JpeXl4G1u6FXrx4AcDo6ChtbW22Qf+t+PLyMseOHQPgx48ff8cBn8+3oXUKGhFB02xyT548CcDTp09dgxwUi0XADnBnMRwHTNOko6MDWLsg3gqel1DZV4vrg2v9Sm7um52dBeDMmTM8efIEgN7eXntyffvpLctypfkr7F0GRMRd5VKwsrLCpUuXAGhsbATg0aNHgH2z58SRM+bi4iJfv3797bgVBfGfgq7rbrA7wb+0tORejv1qoTwvof8FA5XA8wz8c2C38c+B3YbnHfgJ8Ea3IHftOBEAAAAASUVORK5CYII=\" y=\"-6.469565\"/>\n   </g>\n  </g>\n  <g id=\"axes_5\">\n   <g clip-path=\"url(#p9c76998e26)\">\n    <image height=\"48\" id=\"image8445836d55\" transform=\"scale(1 -1)translate(0 -48)\" width=\"48\" x=\"7.2\" xlink:href=\"data:image/png;base64,\niVBORw0KGgoAAAANSUhEUgAAADAAAAAwCAYAAABXAvmHAAAABHNCSVQICAgIfAhkiAAAAvxJREFUaIHtmL9L+0AUwD9NYjQoUkUHF4UMLg46ZHO0SxdHN6W7grvgP+AoroKrY3cRXFwEq4ujBhS6RMWKxRqT59BvUmuqfpO29Fu++cBBucvdvdf3495dBhD6GKXXArSL1q2FM5lMpE+k88bumgKjo6MATE1NAXB/f4/jOEBnFUld6Duq1SoAq6urYd/29jaQWqCJDF1Ko7quA3BzcwPA+Pg4c3NzAFxfX3dsn9QC36Eo9f/m8fERqGel09NTABYXFzu2T9cUCDg8PARgZWUl7NO0eu7wPK/t9VMX+o2RkREAnp+fw77j42MAlpaW2l4/tcBvBMHsOA5jY2NNY8PDw0Dj0Eu0fnLR4nFwcBDps20b27bbWrfvXaitWihwj4mJCaCRKtfW1jg/Pwfg5OQEAFVVwxooKLUnJyeBuiu9vLwkkyGh7P8UEqfpui66rsv+/r54niee58lPuK4rruuK4zhSq9WkVqtFvikWi7Fk+Nz63gKx0+j6+joAe3t7sTbyPC+MgaCUCPB9n4GBgfB3HGIHcatC7P39HWiUzk9PT+GVMghwwzDCEvsriqKQzWYBeHh4iCVP37sQxAyaXC4nuVyuKQjL5bKUy2XRNE00TWv6XlVVUVVVZmdnpVKpSKVSaRnshUJBCoVCGsS/oqoq0PB7aFzSBwcHAXBdt+XcoPo8OjqKjF1eXgKwsLAQR5zkxdzb21uYOQJub28BmJ6ebr3ZnxM4uMh8fvx6fX0F6sEeh753IUh4As7MzHx7+m5sbPw4t1QqSalUaprj+774vp8GcSyKxSIAy8vLkbHd3V0ANjc3I2OWZQFwdnYWGQsq3L99vfu/LRBwcXEBwPz8fGRsa2sLgJ2dnTD7BFfJu7s7ALLZbJh6g1Qc5/00cSn7tZmmKaZpiu/7YXDati22bYtpmqIoiiiKIoZhiGEYYlmWWJYlV1dXks/nJZ/Pp0HcMYaGhoDGyV2tViNuERxkiqIkfqVLLdBr+t4CqQK9JlWg16QK9JpUgV7zAdMqDmHzynpWAAAAAElFTkSuQmCC\" y=\"-63.193043\"/>\n   </g>\n  </g>\n  <g id=\"axes_6\">\n   <g clip-path=\"url(#p9761ab8067)\">\n    <image height=\"48\" id=\"imagee0e094e8a4\" transform=\"scale(1 -1)translate(0 -48)\" width=\"48\" x=\"65.426087\" xlink:href=\"data:image/png;base64,\niVBORw0KGgoAAAANSUhEUgAAADAAAAAwCAYAAABXAvmHAAAABHNCSVQICAgIfAhkiAAAA45JREFUaIHtmL1LM0sUxn+bNeoaRSsRIkFW8KsUBA0I5g+wUtBSsLAR/AdU1EIsFdJYWEhQLG0EKztLQSxEC3VFm6DE4Dduduct9k7WeL33mt28N++iD0wzO7NzzjzPmXNmFEAQYITKbYBf/DhQbvw4UG4E3oGKUv6strYWgMXFRUZGRgCoqqoCIBQK8fj4CMDm5iYAc3NzAPl+Lwg8Awo+EpmiKACMj48DkEwmAXfX/wumaQIQjUa5ubnxZIMvCYVCDoHDw8MAqKqa/yaEsy9vb28A2LaNpmkF88PhMAD7+/u0t7cXzPuyDR7s/qPgiwHbtgG4uLgAXEmYpsnx8TEAk5OTALy+vrK6ugpAT08P4EowFovl2cvlckXZ8L0Z+KjzyspKwGHg+voagPPzc8DZ2aWlJQC2trYKxldUVBStfYmS5IFoNAq4QayqKvF4HIBEIgE4EpqdnQVcwyWen5+xLMvT2oGXEDh5wFNTFEUoiiIMwxCGYYj3sG1b2LYt0um0SKfT4vb2Nt/3EYlEwrMNgWfAVyaWiSyTyQBQX19f1PzLy0sAWlpavJoQ/BjwdQrJRFTsESirz7a2Nj/LAyXKxLu7uwCMjo7+63iZqVtbWwE3f/hB4CXkK4glOjo6ADg6OgLcKvMjDg8PAeju7gaKl95nCDwDvmJAlg53d3cAHBwcANDb2/vp+M7OTsB78H+GoiUkz/6amhrq6uoAt7bp6uoCYGVlBV3XgcJLjkQsFgPg6urKm9Xv7fH9hzLjSwyoqpoP1LGxMQCam5vJZrMAbG9vA3BycgKApmn09fUBMD8/DzgVq5TMxMQEAGtra74dCDwDXwriSCTC1NQUAENDQ4DzBiQZkNfAp6cnwLli7uzsFPRNT08TiUQANwGWIpi/BwMPDw8sLy8D8PLyAkA8Hqe6uhogf+JIbWezWc7OzgBobGwEnMrTMAwATk9PgdIw4PkYDYfDNDQ0ANDf3w/AzMwM4BRp0ihZ/9i2nX+9WFhYAGBvbw+A+/t7zw4EXkIlqYUkK01NTQCsr68zMDAAOC8OEpIVGfxSlslkMn8pKnptT7P+MHi+UP9T0zRNpFIpkUqlhGmawjTNv13khRDCsixhWZbY2NgQmqYJTdO8rFd6B943XdeFruvCMAyRy+UKWiaTEZlMRgwODgpVVYWqqj+vEr93sb/O/Y/41pn4f2XgdyDwDPw4UG4E3oFftA3/BPJ7g84AAAAASUVORK5CYII=\" y=\"-63.193043\"/>\n   </g>\n  </g>\n  <g id=\"axes_7\">\n   <g clip-path=\"url(#pfbbfa75774)\">\n    <image height=\"48\" id=\"image7f78c616bb\" transform=\"scale(1 -1)translate(0 -48)\" width=\"48\" x=\"123.652174\" xlink:href=\"data:image/png;base64,\niVBORw0KGgoAAAANSUhEUgAAADAAAAAwCAYAAABXAvmHAAAABHNCSVQICAgIfAhkiAAABCxJREFUaIHtmE0odG0Yx3/nzIchonwWMcmCJ4shC5FQrJSiULKQkpKFkrK1kdlQNlhQYmdhRVYWLCgWkkmRRhLysTDToGbmXO9i3nPm9eTpYWbwTvxrOnVm5r6+r+t/3QogRAlFUQAQifqod0P9dIkxhjmaP6tqyP7CwkIA0tPTAdjb2yMYDEap2tshkX5UVRVVVcXpdIrT6RSv1yter1fm5+dFURRRFCXis9+sw0d65jMQVQppmgaAz+cDIDk5GYDu7m52d3cBmJ6ejkbEXxH3EVCIQRt1OBwAhtfNZjN+vx+Anp4eAJaWlqIV8yriPgIQg05gs9nEZrPJ8fGxHB8fi6ZposPv94vf75eGhoYP6UIxSSF9Eg8ODgIwPj5uzAj9GQwGKSoqAuD8/DxakQbiPoViEgEdBQUFAGxvb2M2hzq0xWIBIDU11ZjOSUlJAEahR4O4j0BUg+x3XF5eArCwsEBLSwsANzc3AFRUVJCYmAjAxsYGADU1NVHLjGkK6cWclpbG7OwsABkZGQA8PDzQ3Nz84ndVVVUA7OzsRCwz7lMophHQoaoqtbW1AMzMzBjP+vp6AJqamoBwyuXn50e8DMV9BCIuYkVRMJlMQJiV6l7UNA2XywWA1+sFoLa2lrGxMQB+/foFQFZWFgDZ2dlcX19HpEfcR+DdNZCdnQ3A4uKiwf8HBgYAODk5AeDx8ZHMzEwAnE4nAHV1dRweHgLhvaGsrAwIMdX+/v6IDHhzCumtr7e3F4DGxkbju9HRUQCGh4eBUMvUKbY+iXNycsjLywPCE1g/s7W1laGhIQCenp7eZcD3SyG73Q7A6empwTQfHx8BqK6uBuDq6orc3FwASkpKABgZGaG4uDgk9F/P609N02hvbwdgZWXlXQbEfQQgwkVibW1Nfsfq6qqsrq5KWlqaWCwWsVgsYjKZxGQySUJCgjgcDnE4HLK/vy/7+/sSCAQkEAiIpmnicrnE5XKJ2WwWs9n8Hl0iM8BqtYrH4xGPx2MYEAwGJRgMyvDwsFitVrFarS/uh/R7JLvdLna7Xdxut7jdbtE0TXw+n/h8PikvL5fy8vLvcy8UFRcqLS0F4ODgIHTYf4pyYmICgLm5OSBU2M/PzwAkJCQAodUToK+vz/jvxcWFcbbH4/mrDt87Anob3draAsL8XkSMxf329hYIRcXtdr94py80paWlBq/Ssby8TGdnJwCBQODPOkSq/P8FMdkH9AG2vr4OhDzc1dUFwNnZGRBioB0dHQBUVlYCGNQiNTXVqAEdFxcXBh25v7//WAP0tbGtrQ2Azc1Njo6OgDDVfg02mw2A5uZmJicnAYy9eWpqyninF/NrS89PCkHYkykpKQDc3d1FvCLqqaSq6osF6U/4iQBgtMC3eCzW+JBbic9E3KfQjwFfjR8Dvho/Bnw14t6AfwByHD3qixMUxQAAAABJRU5ErkJggg==\" y=\"-63.193043\"/>\n   </g>\n  </g>\n  <g id=\"axes_8\">\n   <g clip-path=\"url(#p1fef55c06c)\">\n    <image height=\"48\" id=\"image207cb85666\" transform=\"scale(1 -1)translate(0 -48)\" width=\"48\" x=\"181.878261\" xlink:href=\"data:image/png;base64,\niVBORw0KGgoAAAANSUhEUgAAADAAAAAwCAYAAABXAvmHAAAABHNCSVQICAgIfAhkiAAABIdJREFUaIHt2MtvjG0YBvDfmCmqQ4hSmoamISokLB1igcQGSws7RCT+ABb2JBaEsOk/wNZh4RRRh8R5IZFJF84NjUMcOkW1nZlv8X7PMx0f/ark69dM780kM+/zzHPf13Xd1/28KZSM4Zgw2gf43RhPYLRjzCeQ+RObpFIpMG3aNLB48WL9/f1gYGAAdHR0+Pbt25/4u4qobgRqamrAtm3bwL59+0B9fb2JEyeCCROSGuXzeQcOHADHjh2DP4LImEcgZYRG1tDQoK2tDaxZswb09PQgqWxtbS2YPXt2XFMsFsH169fB9u3bQVdXV/ztV+OXE8hms+D06dOWL18O3r9/D06dOgVyuZx58+aBnTt3IhH45MmTKxJ59eoV2LVrl2vXrkEU/3BjzFNo2CKeNGkS2L17N2hubvb48WNw6NAhJK0SSqWSfD4Pnj17Fp8P7TaIf+7cuaCtrc2ePXvAhQsXwNevX5VK/06O6kAglUpZsGABWL16NWhvb3flyhVw8+ZNMHXqVDBnzhyzZs0C7969QyLmdDoN8TNoIZ1O27FjR8V39+/f9+bNG9DX1/d7CdTU1GhubkZZxPfu3fPixQuI4gwJZLNZnZ2d4MSJE6ClpUVLSwv48uULyl2rtrY2Ui7s39jYqK6uDjx69AgUCoV/nK06KFQsFs2cORPMmDEDiduGSobqhXba0dERYQ9CTKfTcW1oCGH9p0+fomNnMsmRstlspO3Lly9RRmxwVAcChUIh8j2Ic/369e7evQuR7wGJ/v7+WPnwmUqlIipBT2F6/fDhg97e3uRAfyMwMDAQ221w8+pFoFQqxZYWKtTU1KS1tRXcuHEDZYMajMDgCDwPFV25ciW4evWqBw8eVDxbKBTiPBW0M+IEKMM3ZcoUUFdXZ9OmTeDy5ctIxDicCImuW7cObNiwwdGjR1F27r6+PtOnT0dZxMHJBxenOihEMpugYuwNl5ZgOOGC8iP6lEql+PuTJ09QbggLFy508OBBJA4Mz58/j8/funXrp/tWDwJBA4GPixYt0tDQANauXQtxpv/ZFBm+D3uEC9GRI0c0NTWhzPNcLufcuXPg6dOnv59AuGi0t7eD+fPnx9kkUCk4bE9Pz5CjcHhTcefOHdDb2xv36O7uRnI5Ct4z1CWneigUKnrmzBmwceNGnz9/hlipMEnm8/kh3zgEP1ixYkVcF5rE8ePHkbTTUPmh0Kw+BB4+fAjOnz8f2+Dr168rns1ms7HKg9cHF1+6dCk4fPgwEmPL5XLg4sWLSFry+JXyRxEmzrNnz9q6dStYtmwZ+PjxI5K2F/SwefNm0NraatWqVRDbb2iZhULB3r17wdu3bzE070eUwPcbFotFS5YsQTLLwJYtW2IigV719fXJH2Uy8cDf77l//36XLl0a7lEqonooFKoVLh6dnZ1xLgqzUBh7Gxsb47pgdvl8PprUyZMnkTgw5Td0I4kxj8CIX+5mMpk4vwShBjF3d3e7ffs2ypNkV1fXsIzpV2PECVRs8oOLxn8V1Uuh/0uMeQTGExjtGE9gtGPMJ/AXGtIMTkRPRuMAAAAASUVORK5CYII=\" y=\"-63.193043\"/>\n   </g>\n  </g>\n  <g id=\"axes_9\">\n   <g clip-path=\"url(#p565f5574fe)\">\n    <image height=\"48\" id=\"imaged747a7674b\" transform=\"scale(1 -1)translate(0 -48)\" width=\"48\" x=\"7.2\" xlink:href=\"data:image/png;base64,\niVBORw0KGgoAAAANSUhEUgAAADAAAAAwCAYAAABXAvmHAAAABHNCSVQICAgIfAhkiAAAA4BJREFUaIHtmL8vLFEUxz8zu5vZWGvEhmRFgwSVREFLgRaJUsFfoFCoaEkkClGoFDSyiUgohEKjEESlsAmiIRR+JMJimL2vmHfv7vsRb97ssG+f/SY3m8zee88593vOveccDRAUMPR8K5ArigbkG1/XAE3T/NTDMwqegaDbifLEy8rKAJidnaW8vByAkZERAM7OzgB4fX31Vcn38DUY0DQN0zQBGBoaAqC3txfDMACorKwEYHx8HIDDw0MeHx8BeHp6AuDt7Q0h/H8zXRmg6zqRSASAqqoqAAKBAIFAAIDm5mYAxsbGANjY2GB7exuAi4sLAGKxGHd3dz98k8al02nPBvzfLiQDN51Oc3V1BcDMzAwAHR0dtLa2AhAOhwFoa2sDoL6+XrnQzc2Nmt/Q0ADA/Pw8ALu7u2p/ryh4BjQ8ZqOlpaUsLy8D0NnZCTixAiCE4Pr6GoDR0VG1RsbMysoKALe3t2p+LhBeRygUEqFQSCQSCZFIJIRt28K2bZGNVColUqmUmJiYEKZpCtM0haZpQtM0z3Kzx9d1oWwEg85dMDc3B8Dg4KByF4n7+3uampoAuLy8zFWkQsEzAD74oRy6rgtd18Xw8LCwLEtYlvVDPCSTSZFMJtU8X2R+8OF8OHyJgZ8RCARobGwEYHV1FXAeN4np6Wkgk8XmCt9cKHvIq9IwDGEYhjg6OhI/Ix6Pi3g8XnShT+kLBYNBHh4eAFQabtu2+s8rCp4B+KAY+N2IRqMiGo3+EgtLS0veY40PcCFd11WC9rtEbXNzE4Curi71TVZ1Mgl0Lcurkv8KfGFAFj4ynZa/kClWZMACqjyVQQ1gWRaQCXC3KDKQDXny4XCYiooKwCl8wOkZvby8OEK/M7awsADAwMCA2kOukw2AP8r0Qe+8whUD2X1QN+WfpmnU1NQA0N/fD8D+/j57e3uA0yMCqK2tBeD4+FjJkGWqXPcnuG5s/U3dKoTg/PwcgPX1dQB6enpUkXNwcKDmgVMbx2IxAFpaWlzLgf/AhVwx4KVvI0/35OQEgNPTU9V63NraAqCurg5w0m8pY21tDXDPesEz8GnZaCQSYWpqCoC+vj4ASkpKAOfalYHd3d0NwM7OjivmP80AyLyy7e3tQKYZXF1dzeLiIgCTk5MAPD8/u9qz6EK5IDtnei97fXcPXzXKA/LKgB8oeAaKBuQbBW/AN6YKBqHhcra3AAAAAElFTkSuQmCC\" y=\"-119.916522\"/>\n   </g>\n  </g>\n  <g id=\"axes_10\">\n   <g clip-path=\"url(#p7aeb8a978e)\">\n    <image height=\"48\" id=\"image4114895dbd\" transform=\"scale(1 -1)translate(0 -48)\" width=\"48\" x=\"65.426087\" xlink:href=\"data:image/png;base64,\niVBORw0KGgoAAAANSUhEUgAAADAAAAAwCAYAAABXAvmHAAAABHNCSVQICAgIfAhkiAAAA4BJREFUaIHt2b9rU10YB/DPTRobbP1RLNW0DlLMoNTWSboJLUXQgpMUnAtODu4d3kl08T/IoqCTi4NudZEK2kIpZFBscfJXobXExpY2975DuDd1eeG9CZRgvnCXm3vO9zzn+5znx0mASBsjc9gLaBZtb0BXKyfr6ekBs7OzRkZGwNzcHPj+/XsrqRK0vQLUD3FTTz6fj/L5fFQul6NyuRyFYRjFCMMwCsMwKpVKUSaTiTKZTNN8B5+2VyDQgjB6/PhxcO/ePTA2Nub69evgyJEjIAxDCwsLYGJiAuzv7zdL3f5noCUKnDt3Do0o9PHjR6Ojo+DFixegv79fJlPfrwsXLoBPnz41Sy2Lf5qdpLe3VxiGgiBQq9VsbGzY3Ny0vr6uWq168+aNq1ev6u7uFgSB1dVVxWLRu3fvmjag7V2oJYns27dvYHBwMHlXq9XA2toa2NvbEwQBGBgYaAUtOgrUEe/20aNHQRAEstksGmE03n1YWVlpBS1aXAsVi0WwtbVld3cXnDhxAvU8EOPXr18t4+y40EE8ePAAvHz50vPnz8H4+Dj4/fu3KKqnnIsXL4JXr141zdlR4CBOnz4NJicnffnyBfUMDJVKJVFgamoKPHr0CJL3adBRgMYOvn//HvUq8+TJk+Dr16+gr6/P8PAwGmegr68PbGxspOZuqQs9ffoUFAoF3d3d4NSpU2BoaCjJDbGrPXnyBNy8eTN1ad1xIRpZ9sOHD6BarTp//jwabnJQgbisjhubkZERy8vLqbg7ClDvB+Dhw4fg2LFjSXMTV549PT2JUltbW2gkvnK5nJq7KQPiBZVKJXD58mXU74AqlQr+LJ3jeujatWtoRK2/Og801RPHt29v374FP3/+BHfv3vX582dw584d1G/r4lB55swZNFypGbS9AqnPQBAEhoaGwI8fP8Djx4/B/Py8nZ0dNJLV7du3k+QW9w2Li4tp6RP8vQp0dXU5e/YsWFpagmSHBwcHra+vgytXroBcLpf8Ht8VxeMPdmv/ex1pB2az2SRUxn3vzMwMmJ6eVq1WwaVLl0A+n0/GFgqFP75/9uxZ2mW0vwulDqNBEMjlcmhc7t64cQP1kBlfH8ZZOpfLJTVQjNevX6PeAKVNZn+vAv85aRAkux37frFYdOvWrT++u3//Ptje3k7PpfM36+GiY8Bho2PAYaNjwGGj7Q34F9EERFldV5koAAAAAElFTkSuQmCC\" y=\"-119.916522\"/>\n   </g>\n  </g>\n  <g id=\"axes_11\">\n   <g clip-path=\"url(#pc505b2055e)\">\n    <image height=\"48\" id=\"image51d838df51\" transform=\"scale(1 -1)translate(0 -48)\" width=\"48\" x=\"123.652174\" xlink:href=\"data:image/png;base64,\niVBORw0KGgoAAAANSUhEUgAAADAAAAAwCAYAAABXAvmHAAAABHNCSVQICAgIfAhkiAAAA0JJREFUaIHtmL9L+1AUxT99bazVEqsuUpcSxEEcRFAUdHARnARxELs5uLiqo/+Fq6vQDm7i5iYKroKlQx0Kgg5Vh6JR875DfIn1a2ttU2swB0J/5ubee859OS8hQOJjiHYn0CyCAtqNoIB2Iyig3fB9AREvgnR0dADw/PwMgJQ/d29sqoDOzk4Ajo6OAOjq6gJgamoKy7KaTK0+/G0JLS8vAzA7OwuAEHY/isUig4ODQOvl5HsGQjToRsPhMMViEYCBgYH/ft/f3wdgdXX1W3E1TQPAsixeX1/rOkc2cqysrMhasCxLWpYlDcOQhmF8GU8IIYUQMpVKyVQqJdPptNQ0TWqaVvu8b7XnF6JhCeXzeYaGhiq+UwMbCoWc7+7v7wFbZo+Pj5/GEkI40tnZ2QFgbW2N8fFxAK6vr6vm4XsGGl5Gq3XzI3p6egA4OTlhenoawBlOxZimacRiMcC+CQL09fU57w8ODqrG/7sMLC4ucnl5aQeJ2GFM03Q+h8Phiv+PjY2RzWYB2NraAlwmdF13mOrv7wfg5eWFu7u7L/NoeIgBDMMAYHd3F3AlUSqVmJ+fr0jo/WA/PT0BcHt7C9gmsLe3F4B4PO7EGB4eBqhZiO8l1BQDCsqVJpNJABKJBHNzcwAsLCwAMDMz49juWlCy2tvbY2NjA7DlVA0BA++hBjcejzM5OQm4ek8mk0xMTAAwMjJScV6pVOL09BSAw8NDAK6urmp2XsHTAhSEEIyOjgLuEBcKBW5ubgB32FWCaifX0LWaSfQ3wJM98UdYlkWhUACgXC4D8PDw4HRadd6LzU7AQDWopVW9lsvllmz0AwaqBn7zR5+5VmUrvJiBlhWglk/nQpGIk3h3dzfgbnaCZdRrhEIhdF0HXCaU8wRYWloC4Pj4GIBcLtewnAIGPoOU0hne9fV1wPZCiUQCgHQ6DbjOM5/P1/0M6CNaNsQXFxcAnJ+fA7C5uenYbVVcLpcDmluNfC8haPDJXL2HrutS13V5dnYmTdOUpmnKTCYjM5mMjEajMhqNNhXf9wy0bAYUlBvNZrOO1re3twH3KUYz8D0DLdmRVVzgzT7EYjFnqVSd98IL/VgBQggnYS9tte8l9A80ZZw610E7aAAAAABJRU5ErkJggg==\" y=\"-119.916522\"/>\n   </g>\n  </g>\n  <g id=\"axes_12\">\n   <g clip-path=\"url(#pf9633e7361)\">\n    <image height=\"48\" id=\"imagee7bb53d4b4\" transform=\"scale(1 -1)translate(0 -48)\" width=\"48\" x=\"181.878261\" xlink:href=\"data:image/png;base64,\niVBORw0KGgoAAAANSUhEUgAAADAAAAAwCAYAAABXAvmHAAAABHNCSVQICAgIfAhkiAAABEtJREFUaIHtmM0rfG0Yxz/nHGdmDKEUhRJ5+9liQbMiL4UsFLGwVWIlZWnBSilb/gBLWVgiElIs5K0kjIW8jGa85Bhj7mcx3ff80phnvD2ah2+dxUznPvd1Xd/re1/XfWmAII6hf7cBH8WvA5GgadpXfDYi4p6BhI8slpHOyMgAwOVyqd+rq6sA7O7uAuD3+z+y1auIewYgdIy++TEMQ7hcLuFyuYTb7RZut1sEAgERCAREMBhUj2VZwrIs0draKjRNE5qmvWu/156fx4BhGMIwDNHd3S28Xq/wer0q2tHw/PwsJiYmxMTEhNB1Xei6/ikMaMRYiaVg//z5A8Dy8jIpKSkA6Loe8d2XeH5+BmB4eBiAkZERAJ6enmIxISLiPoXefIxWVVUBYLfbVURlBE3TBMAwjIhr5f+Dg4MAlJaWAtDT08PV1dVbTQH+BwwYwNBbFpydnXFwcKCid319jWVZ3N3dYRgGfr8fu90etZ3QdR3DMMjNzaWgoIDMzEzW19dJTk7m4eEBTdMQIrYmOWYRv0RCQgI2mw1Aibm4uBiA/v5+6urqgFCqSUijZOp5PB4Atra2mJqaAmB2dhaAq6srgsHgv9oR9yn0bgaiQdd1qqurgXBETdPk4eEBgNvbWwD29vYAcLvdeL1eANbW1tS6+/t7IMxYxL0+2/j/Gh/qRl9DMBhkfn4egMXFRQDFCIQZODs7A0JaSE5OBiArKwuAxMRELMtS3wMiCjvuGfgSDfyNmpoaAKanp3E4HAAEAgEApQmPx6Oie3h4CEBfXx9utxuI3mp8SQpBuB+S9J+cnJCbmwuA0+kEUA6lpqYqoaanpwNQWFioHIiGuE+hL2NAFrmKigoAbm5u2N/fB1BMyAJos9lISAiZkpaWBsDQ0BCbm5sAXFxcvLrPz2NARtbpdCoxSpHJfHc6nXR1dQHQ2dkJhCK7s7MDwNLSEhAWc21tLfn5+UBYF6ZpKoaiMRCzA/Kcbm5uBqCjowOfzwegWmGZBpWVleTl5QGQlJQEhM5++Z50YHt7G4C5uTnKy8sBKCkpAWBjYyOq4RJxn0Ix1QHTNGlqagJgfHwcCM1+ZOrIPkZWzoyMDBITE4HwdTMQCKiIbmxsAKjZ0fn5OY+PjwAcHx8DcHR0xOXlJUDUrjTuGYhJA6ZpqqmbLDR2u131+jLP5fRN0zR1fZQFzWazkZOTA0B2djYAjY2NANzf37OwsADAwMAAEKrOP+I+EBMDlmUxOjoKQFFREQANDQ3q1JFR/vv2FQ3yfakPp9PJysoKAKenp0D4iI0FbxokORwO4XA4RFtbm/B4PMLj8UQdaEWCHIT5fD7h8/lEWVnZzx0tfqidlnOg9vZ2AMbGxoCQ0F9O6/x+PzMzMwD09vYC0StsrPjZDLyEFHVLSwv19fUAHBwcADA5OakK3mfiy25k8qSJdUD1Xvym0Hcj7hn4deC78evAdyPuHfgHZflkJw8hV2oAAAAASUVORK5CYII=\" y=\"-119.916522\"/>\n   </g>\n  </g>\n  <g id=\"axes_13\">\n   <g clip-path=\"url(#p27c376d8d5)\">\n    <image height=\"48\" id=\"imageb933c2e508\" transform=\"scale(1 -1)translate(0 -48)\" width=\"48\" x=\"7.2\" xlink:href=\"data:image/png;base64,\niVBORw0KGgoAAAANSUhEUgAAADAAAAAwCAYAAABXAvmHAAAABHNCSVQICAgIfAhkiAAAA39JREFUaIHtmD1LM1sQx3+7m80iviGKGlGLiCKCKGjhB1BEwSoYCFhaW4idIPcb+AkEC0EDKigI2kgsAxYWFjbiSyoVBEHMrm6cp1h2k2iuNzfJQ27us384LCx7dl7+M3NmjgIINQy12gqUi8Dv+KmqqoRCIQBeXl4AeH19/R2iACeEKrIURRFFUWR6elpSqZSkUimJRCISiUREVdWKycldNR9CUEFv6Louuq7L3d2d2LYttm1LPB6XeDwuuq77DBRCRZO4o6MDgJaWFkSc6uw+DcPAtu28d7lQFCXv+fn5WZRMn4FczM7OAmDbtudB0zQBx6Nfvew+DcNA0zQAPj4+ALAsqyBTX1FRA/r7+wG4v7+nr68PgK6urjxlwTknwFEcoLGx8ZvBxSgPfgg5aGhoAGBsbAyAw8NDFhcXARgdHQUcdi4vL4H80AEnXN7e3gC8RC8WPgMAKysrAAwNDQGwubnJw8MDAIODgwCsr68zPz8PZPsiN84ty/KSt9jYd6FQgXbaFe5WkouLC6+Za2trA5zkXFpaAmB3dxeA9/d3b3+xdf8r/uwQyi2NAOl0GoCrqysvQVtbWwGoq6tjeXkZgP39fSDLwL8Nm1zUPANl5YDLwPHxMQA7OzsAbG9vMzAwAMDe3h4A4XDY2zc5OQlAIpEAfAbKr0Juqby9vQWciuO2CzMzMwAcHBx4Verx8RGA7u5uIFvFSkXZQ4VhGGIYhqiq+m10DAaDEgwG5ebmRr4iGo1KNBr9swcaqAADgUBAAoFAQQbcFQ6HJZPJSCaT8RiwLEssyypr4PcZADzPa5ommqaJoigFWUomk5JMJr/lwsjISMmyNeCvcj1QX1+PrusMDw8TCoVQVRXTNNE0DRHxzotUKkUikSAWi+W9N02Tk5OTkmTXfAhVpBeampoCYGtrC3BGxrOzMwBWV1cBZ8zs7OwE+HZjcXR0VLIONc9AWSexe9pOTEwAcHp6CmRHRciestfX17S3twPQ3NwMwPPzMwA9PT1YllWaDiXt+g/hRwbcGP+nbjEQcFJpYWEBgI2NDY8dFyLiTV1PT08AzM3NAXB+fl6C6jn//rvlXpf/9E2h78fHx8U0TTFNM6/ep9NpSafTEovFJBaL/XhyF7v+3yFUDpqamoDsjUVvby9ra2uAU1IrBZ+BaqPmGfANqDZ8A6oN34Bqwzeg2vgFPkV4+vyZrvAAAAAASUVORK5CYII=\" y=\"-176.64\"/>\n   </g>\n  </g>\n  <g id=\"axes_14\">\n   <g clip-path=\"url(#p050c193550)\">\n    <image height=\"48\" id=\"imagec4ee27d390\" transform=\"scale(1 -1)translate(0 -48)\" width=\"48\" x=\"65.426087\" xlink:href=\"data:image/png;base64,\niVBORw0KGgoAAAANSUhEUgAAADAAAAAwCAYAAABXAvmHAAAABHNCSVQICAgIfAhkiAAAA6dJREFUaIHtmL1L62wYxn9pY5VajB8g1FZRJwcXwUVQEaFDN8HF/gHi4uQmuOioi+Csm4gKjiqIlCIWcVAQEV3UYq34AVVUFNvkOUNOUjlv3/dtm0oJpxdkSMiT+75zXffH80iAwMZwlNoBqygHUGqUAyg1bB+AXPBCWcbn8wEwODgIwNDQEAD19fVEo1EAVldXATg9PeXr68uSs9lgewYk8mxkfr8fgJOTE+rq6nJep6oqExMTACwsLAAghPUemncAAwMDAOzu7uJwOLI6IklS1rXGe93d3QAcHR3lYzor/j4JVVZWAhCNRmlvbwdgZmYGgK2tLQB8Ph/Dw8MAjI6OAnrSG4jH4wC0tLQA1qRkewZAZyDnS5IkIUmS2N7eFqlUSqRSKRGJREQkEhEej0d4PB7hcDiEy+USLpdLhEIhEQqFRDqdFgY0TROapgm32y3cbnde9rNchS1sbW01HTEQDodFOBwWfr9fKIoiFEURwWBQBINBkUgkxJ8IBAIiEAhYCsD2Eiq4E19fX/P8/Axg9gOjxO7v77O8vAxAY2MjALFYzExk4/2enh4AdnZ2CnXD/kmcdxn9DkVRAEwmDAghSCaTAFxeXgKwvr7OxsYGAG1tbYA+HwHc3d0V6oL9GSg4BwBeXl4ASKfT+sd+a1ySJGpqagBoaGgAIJFIcHNzA8DV1RUAmqZZMa/btPwFYHFxEYCxsTHzWSqVAuDj4wOApqYmc3YyHC/GMGd7CVlKYgNVVVVA5m8DvL6+AjA/P2/er62tAZhSMhj4q2ehojBg4PuffHt7A6CrqwvQWXp6egLg8fER0Dc5VlGUJDZgOO3xeKiurgYyFSoej1NbW6sb/V2tipHMtpdQURno6+sD4Pj42NxWdnZ2ArC3t2f++ebmZiDTgd/f3wu2aXsGiprEBr5r+vz8HID+/n5zduro6AD05gZwcHDAxcUFkGmAuXbpMgPZoGmamQMGG5OTkxweHgLQ29sLwMjICKAfAmxubgIwNTUF6PuNXFj4kQDu7+/NjYwBVVV5eHgAwO12A5il1ul0mtIZHx8HYGlpKac+YXsJ/UgAc3Nz/3jmdDrxer14vV4URUFRFGRZRpZlJElCVVVUVSUWixGLxcpJbAler5fb21vdwL+ck0KmVCaTSWZnZ4HMwe/3yfa/8CMBVFRUsLKyAkAwGAT0+efz8xOAs7MzAKanpwH9mNIYv/Odi8oS+l8Df/SDYqPMQKlhewbKAZQatg/gF+081WNYfPbMAAAAAElFTkSuQmCC\" y=\"-176.64\"/>\n   </g>\n  </g>\n  <g id=\"axes_15\">\n   <g clip-path=\"url(#pb15f70c1d6)\">\n    <image height=\"48\" id=\"image2cfed6be7f\" transform=\"scale(1 -1)translate(0 -48)\" width=\"48\" x=\"123.652174\" xlink:href=\"data:image/png;base64,\niVBORw0KGgoAAAANSUhEUgAAADAAAAAwCAYAAABXAvmHAAAABHNCSVQICAgIfAhkiAAABANJREFUaIHtmc0rdG0cxz9njsmQMSg1E80wWbBAsbCxwMqspWgGC7Y0pWz8AZKYhZTIwhQWFhbWwsLOYmRK0ygSUtMk7y/zcj2Lec6Zmdv9PM8ZPLdOfOs0Ndc11+/6ne/vfSRAoGMYvvoCH8WPAl8N3SuQ95mH5efnA2Cz2VhYWACgsrISgNnZWRYXFwGIx+OfJlP3DEAqjH7okWVZyLIs7Ha7sNvtwufziVgsJmKxmMhEPB4X8XhcuFwu4XK5PiwXELpnQOIDiUySJABkWQagsLAQgKKiIqampgDo6ekBwGB4+67W1tYAcLvdCPH+fPphGiVJEpIkCYPBIAwGg5BlWZhMJmEymYTH4xEej0dEIhHxT9jZ2VHPyFX29zahfz34b/NSPouLi/H5fAAMDAxkrQHMzMwAMDo6mpOcHwY0C5IkCgoKAJiYmABgeHhYXUsmk0CKKYCHhwdt5/IJCihRyGg0AqmI8/LyAqBGFyGEuq+iogKA3d1dABwOh3pWR0cHANvb25pk696E3l0LSZKExWIB0rHe6/UCUFJSwsbGBgArKysAhEIhHh8fAbi5uQFgfHwcgKWlJZW92tpa4Bsx8G4fqKqqYm5uDoCGhgYArFYrAHl5eartPz09AbC5ualm3mAwCEBNTQ2QqlTLy8sBaGtrA+Dg4EDTPb4fA0rNHwwGsdvtAG8ijtlszkpSytr+/j4AQ0NDALy+vgLQ2dmp+tP09DQA9/f3mu6TsxOPjIwAqUbl7OwMgLGxMQBub28B6O/vp6+vD8jOyI2NjUC6sItGowBcXFyoTvv8/JzTfb6PCSlv7fLyEkiFwtbWVgAikcib/TabLWt/Js7PzwHo7e0FoLS0lJOTEwCOjo4ASCQSmhTQPQOgse52OBzC4XCobeHW1pam31mtVmG1Wn/bBwQCAREIBERXV5d6vtJTaL2XZidub28H0qa0t7en6XdXV1cA1NfXc3h4mLWm5A+v18vg4KDWq2RB9yakmQEl5iuoq6vLSVAwGGR9fR2A7u5uIB1im5qa1LivlNVaoXsGQGPT7na7hdvtVp347u5O2Gw2YbPZNDuc0+kUTqdTJBIJkUgkVGeORqM5O6/y6J4BTT4gyzKhUAiA6+trAMrKyjg+PgbSfcDy8jKQrnEyYTAY1Bby1xnR/Px8zravQFMmlmUZs9kMgMvlUoUq3/2ucFPqotPTUwCqq6vVfjdzH6QGYUqzkyt0b0Kaa6Ff5zwWi4WWlhYAJicngVSyytzzX1hdXQVSo8X3QvcMwCfMRpVHmW82NzeLcDgswuFwVshMJpMimUwKv98v/H7/u+ehWTL5Q4Mto9GoOu3PPzQZ+GMM/F/QPQM/Cnw1fhT4auhegb8Aw85rDn2hpHUAAAAASUVORK5CYII=\" y=\"-176.64\"/>\n   </g>\n  </g>\n  <g id=\"axes_16\">\n   <g clip-path=\"url(#pf5158745fa)\">\n    <image height=\"48\" id=\"image72386a82c5\" transform=\"scale(1 -1)translate(0 -48)\" width=\"48\" x=\"181.878261\" xlink:href=\"data:image/png;base64,\niVBORw0KGgoAAAANSUhEUgAAADAAAAAwCAYAAABXAvmHAAAABHNCSVQICAgIfAhkiAAABWVJREFUaIHtmU1oE10Uhp9JaiZpa2mtbSWoFBu60lbrQuvGFkVIQVER3QjuuurKnTsREd24FHcVQUXwB4SWqtgKWhAX9TdkIZqW2qqYJpPGMTXTyf0W8907qWlr84mUfPaFkJCfe88573vOPedGAwQlDM9yG/C7WHFgubHiwHKj5B0oW24DJFavXg3Anj17AGhqauL69esAfPr0acHflTwDGkUeZJqmzXkGEELMeS52rbKyMnbs2AHAxYsXAWhsbOTr168A7Nq1C4BUKlWwxpIkpGkaLS0tANy4cQOAuro6fD4fAJZlAfDgwQMAent7iUajczY1TZNcLgeAx+MQX15eDsD69evZv38/AGvXrlVOVVVVqb0WcuDvkNDRo0e5cuUKAIFAQL3/s2RkhG3bxjRNAG7fvg3AmTNn+Pz585w1ZIQbGxtVEh8/fhyAtrY2Vq1aBcCRI0cAePnyZYFtJc+AFzi90IcNDQ1UVlby5MkT/H6/igjA7Owso6OjJJNJRkZGiMViVFRUYJomVVVVlJeXEwgE2Lp1K9u2baOrq4tYLEYoFCKdThMIBLAsCyEEmqZh2zaZTAaAiYkJLMuivr4ey7IYHx8nGAzy4sWLOcUDfpHEhw8fBlDJmo+ZmRl6e3sBuHXrFgBbtmwB4NSpU2zevBlAOd3c3MzNmzcBePPmDeDICmBsbIwfP34AMDk5CTgylPu+fv16QRtLXkKLJnFnZycAg4ODBZ/lcjlGRkYAOHv2LOAmdX19PcFgEHAZ6OrqUqXY6/UCKMlcunSJx48fA/Dx40fAKbvr1q0DUCV5amqqwI7/NwN+vx+AZDKpXudDRtwwDACePn0KwIULFxQ7MzMzgBP1nTt3AtDX1wdAZWUlAOl0muHhYQD6+/vVd8rKnBSdmJgAXMbyUfIMgMPAoo8TJ04Iy7KEZVliMSQSCZFIJERnZ6fweDzC4/HMu14wGBTBYFBEo1ERjUaFZVkik8mITCYjIpGIiEQi4tixY6K1tVW0trYKn88nfD7fQvb92gGv1yvC4bAIh8PCMAxhGIbI5XIFD9M0hWmaIhwOL+qApmlC0zQRCoVEKBQShmEI27aFbdsim82KbDYrXr16JXp6ekRPT4/QdV3ouj7vWiUvoUVPYgkhBJOTk4yNjRGLxejv71cJHI/HmZqaIh6Pk0qlSKVSfP/+nefPn+Pz+bAsq+D0lPj27RupVIqamhra29sBpwv1er3U1tZSV1dHS0sLV69eRdM0ZmdnC9YoeQaWPNDIw2ffvn0A7N27lzVr1gAQiUQAOHDgAOCMh5cvXwbg7t27gHMI2bY9d/N/mdm4cSNv374F3NIKbtlsbm4G3EMuH0ueieXm7969A+DcuXM0NTUBKPrT6TQA1dXVHDx4EIDp6WnAGXYSiQRQOMF9+fKFDx8+AKjTOt9B2WPN50DJS6joWwkZqZMnT3Lnzh3AGUjAjbZhGIoNKb3q6mo1Eko2JQN+v18NQ/mQA8yzZ88WtOfvY0BGanh4mPPnzwNuX19bWws4I6OMtuxKdV1XCSqTU/ZX4XBY9f6SxYGBAbq7u4H5h3mJkmeg6HuhfMioDQwMANDR0QE42pYd6sOHDwG4f/8+79+/B9ypa8OGDYBTeTZt2gS43ejQ0BDZbPbPOiAhpTE+Pg44CSshjRgdHVUFQMowHo8DcO/ePTU0JZPJovb+uyX0M2pqagAn2vLOJx+SDXk/JJP/2rVravApFisMzAdd11Vi796929lI05T2Hz16BMChQ4cA1C3ef8EfcQDcPmb79u2AW6nAdUo2gb+DFQktFbquU1FRAbilstj/E+bDCgPLjZJnYMWB5UbJO/APmPy7EQYDrLsAAAAASUVORK5CYII=\" y=\"-176.64\"/>\n   </g>\n  </g>\n </g>\n <defs>\n  <clipPath id=\"p4444c433c8\">\n   <rect height=\"47.269565\" width=\"47.269565\" x=\"7.2\" y=\"7.2\"/>\n  </clipPath>\n  <clipPath id=\"p173092fd47\">\n   <rect height=\"47.269565\" width=\"47.269565\" x=\"65.426087\" y=\"7.2\"/>\n  </clipPath>\n  <clipPath id=\"p028bc43a87\">\n   <rect height=\"47.269565\" width=\"47.269565\" x=\"123.652174\" y=\"7.2\"/>\n  </clipPath>\n  <clipPath id=\"p936eaa491d\">\n   <rect height=\"47.269565\" width=\"47.269565\" x=\"181.878261\" y=\"7.2\"/>\n  </clipPath>\n  <clipPath id=\"p9c76998e26\">\n   <rect height=\"47.269565\" width=\"47.269565\" x=\"7.2\" y=\"63.923478\"/>\n  </clipPath>\n  <clipPath id=\"p9761ab8067\">\n   <rect height=\"47.269565\" width=\"47.269565\" x=\"65.426087\" y=\"63.923478\"/>\n  </clipPath>\n  <clipPath id=\"pfbbfa75774\">\n   <rect height=\"47.269565\" width=\"47.269565\" x=\"123.652174\" y=\"63.923478\"/>\n  </clipPath>\n  <clipPath id=\"p1fef55c06c\">\n   <rect height=\"47.269565\" width=\"47.269565\" x=\"181.878261\" y=\"63.923478\"/>\n  </clipPath>\n  <clipPath id=\"p565f5574fe\">\n   <rect height=\"47.269565\" width=\"47.269565\" x=\"7.2\" y=\"120.646957\"/>\n  </clipPath>\n  <clipPath id=\"p7aeb8a978e\">\n   <rect height=\"47.269565\" width=\"47.269565\" x=\"65.426087\" y=\"120.646957\"/>\n  </clipPath>\n  <clipPath id=\"pc505b2055e\">\n   <rect height=\"47.269565\" width=\"47.269565\" x=\"123.652174\" y=\"120.646957\"/>\n  </clipPath>\n  <clipPath id=\"pf9633e7361\">\n   <rect height=\"47.269565\" width=\"47.269565\" x=\"181.878261\" y=\"120.646957\"/>\n  </clipPath>\n  <clipPath id=\"p27c376d8d5\">\n   <rect height=\"47.269565\" width=\"47.269565\" x=\"7.2\" y=\"177.370435\"/>\n  </clipPath>\n  <clipPath id=\"p050c193550\">\n   <rect height=\"47.269565\" width=\"47.269565\" x=\"65.426087\" y=\"177.370435\"/>\n  </clipPath>\n  <clipPath id=\"pb15f70c1d6\">\n   <rect height=\"47.269565\" width=\"47.269565\" x=\"123.652174\" y=\"177.370435\"/>\n  </clipPath>\n  <clipPath id=\"pf5158745fa\">\n   <rect height=\"47.269565\" width=\"47.269565\" x=\"181.878261\" y=\"177.370435\"/>\n  </clipPath>\n </defs>\n</svg>\n",
      "text/plain": "<Figure size 288x288 with 16 Axes>"
     },
     "metadata": {
      "needs_background": "light"
     },
     "output_type": "display_data"
    }
   ],
   "source": [
    "generate_and_save_images(model, 0, random_vector_for_generation)\n",
    "\n",
    "for epoch in range(1, epochs + 1):\n",
    "  start_time = time.time()\n",
    "  for train_x in train_dataset:\n",
    "    compute_apply_gradients(model, train_x, optimizer)\n",
    "  end_time = time.time()\n",
    "\n",
    "  if epoch % 1 == 0:\n",
    "    loss = tf.keras.metrics.Mean()\n",
    "    for test_x in test_dataset:\n",
    "      loss(compute_loss(model, test_x))\n",
    "    elbo = -loss.result()\n",
    "    display.clear_output(wait=False)\n",
    "    print('Epoch: {}, Test set ELBO: {}, '\n",
    "          'time elapse for current epoch {}'.format(epoch,\n",
    "                                                    elbo,\n",
    "                                                    end_time - start_time))\n",
    "    generate_and_save_images(\n",
    "        model, epoch, random_vector_for_generation)"
   ]
  },
  {
   "cell_type": "markdown",
   "metadata": {
    "colab_type": "text",
    "id": "P4M_vIbUi7c0"
   },
   "source": [
    "### Display an image using the epoch number"
   ]
  },
  {
   "cell_type": "code",
   "execution_count": 27,
   "metadata": {},
   "outputs": [],
   "source": [
    "def display_image(epoch_no):\n",
    "  return PIL.Image.open('image_at_epoch_{:04d}.png'.format(epoch_no))"
   ]
  },
  {
   "cell_type": "code",
   "execution_count": 28,
   "metadata": {},
   "outputs": [
    {
     "data": {
      "text/plain": "(-0.5, 287.5, 287.5, -0.5)"
     },
     "execution_count": 28,
     "metadata": {},
     "output_type": "execute_result"
    },
    {
     "data": {
      "image/png": "[encoded data removed]",
      "image/svg+xml": "<?xml version=\"1.0\" encoding=\"utf-8\" standalone=\"no\"?>\n<!DOCTYPE svg PUBLIC \"-//W3C//DTD SVG 1.1//EN\"\n  \"http://www.w3.org/Graphics/SVG/1.1/DTD/svg11.dtd\">\n<!-- Created with matplotlib (https://matplotlib.org/) -->\n<svg height=\"231.84pt\" version=\"1.1\" viewBox=\"0 0 231.84 231.84\" width=\"231.84pt\" xmlns=\"http://www.w3.org/2000/svg\" xmlns:xlink=\"http://www.w3.org/1999/xlink\">\n <defs>\n  <style type=\"text/css\">\n*{stroke-linecap:butt;stroke-linejoin:round;}\n  </style>\n </defs>\n <g id=\"figure_1\">\n  <g id=\"patch_1\">\n   <path d=\"M 0 231.84 \nL 231.84 231.84 \nL 231.84 0 \nL 0 0 \nz\n\" style=\"fill:none;\"/>\n  </g>\n  <g id=\"axes_1\">\n   <g clip-path=\"url(#p0189889b1b)\">\n    <image height=\"218\" id=\"image5e93029ef0\" transform=\"scale(1 -1)translate(0 -218)\" width=\"218\" x=\"7.2\" xlink:href=\"data:image/png;base64,\niVBORw0KGgoAAAANSUhEUgAAANoAAADaCAYAAADAHVzbAAAABHNCSVQICAgIfAhkiAAAIABJREFUeJztnXl0VFWawH+vKlslIQES1oDsq+ygzaKNQLM3oKCNAm40NIzHjQYZB50+gGMzbqggDtM0PQ0qYDMoAmFtQVuEtIITISCIGiQQlgTIAiFLpd788c79qrKShKqXBO7vHI8nRdWrr+573/2W+937GaZpmmg0moDiqG4BNJpbAa1oGo0NaEXTaGxAK5pGYwNa0TQaG9CKptHYgFY0jcYGtKJpNDagFU2jsQGtaBqNDWhF02hsQCuaRmMDWtE0GhvQiqbR2IBWNI3GBrSiaTQ2oBVNo7EBrWgajQ1oRdNobEArmkZjA1rRNBob0Iqm0diAVjSNxga0omk0NqAVTaOxAa1oGo0NBNn9hYZh2P2V5XK9E9G1vDfGzSZvVdEWTaOxgVqnaA6Hg7i4OCIjI4mMjKxucTSaClFrFM0wDAzDYOjQoSQkJDB8+HCGDx9e3WJpNBXCsLttU1V98uDgYAB++OEH4uLi2LBhAwATJ068IXluthiiqvKGhoYCsHnzZgCaNWvG0qVLWbFiBQBut7tK173Zxreq1BqLptHUZmqNRWvWrBkAR48exeVyiUV76KGHgJIzkXI1ATweT5nX9eeM26JFCwAGDx7MvffeC0D9+vXZt28fH374IQDffPNNha9XGoGwEE6nk7i4OAB+/PFHAIKCrIR0YWEhAGPGjGHbtm2VvnZNsGh16tQBYMiQIbRp04Y1a9YAcPbs2RLvDZQ62J7eryqjRo0CLBfG4/GQm5sLeG+Ur2KFhobidDopKCgAIC8vL2ADCN5J4OTJk6X++1133cXcuXMBeOaZZwBYunRpQGWqCL5jl5GRAcDf/vY3AB588EEcDgdOpxOArVu3snbtWgAmT55sq+y+9xYsZajI96vPdO/eHYB58+bRsmVLpk6dCkD//v3JzMwMgMQlqTWK1q5dOwBOnTpFmzZtaNq0aZF/dzgcEmfUqVOniDIG+qFo27Ztkb99v6/4jP3WW28BsHfv3hu2bjeKkrOwsJArV64A8Nvf/haAbdu28eabbxIbGyvvV95D06ZNGTRoUMDHVSnI2rVradCgASEhIQAUFBSwc+dOAJnAMjMzuXr1qngvDoeD8PBwwLLGALGxsQQFBREVFQVAgwYNbFO0WuE6RkZGsmnTJsB6QKdNmyaujVI4wzDERTBNk5ycHPLz8+XvsvCHa6MU/Ny5cwAsXLhQ3Ky4uDgmTJjA9OnTAa9Ldvr0aW677bYKyeBveSvyecMwiIqK4s033wTg0UcfLXLtxYsXM3v27Ote70bkzcnJAcDlcpW4llKorKwsADZs2MDChQvlHrhcLlGorl27AjBlyhR69eolibX777+fxMTESslbVXQyRKOxgVph0ebPn8/MmTMBy1WYNWsWHTt2BKB58+YAXLlyRWa+vLw8cnNzy02CKPxhIdR7lAXdt28fo0ePBqxZOSgoiAkTJgBIIG6apiy4q5m7ItiZXDAMQ8Z00aJFPPXUU/K6x+MRi3H16tUyr1EVeRs1agR4PQSwYvOff/4ZgOTkZG6//XYAmjRpAlgW7vvvvxdX8vDhw+Tl5QGI5/CLX/yC7t27c8cddwCwZMkSVq5cWUTOWzoZ8sILL0hQ/uyzz9K4cWNxwZT//b//+7/ywBYUFFRIyfyFujlKxl/+8peyHvXwww+TnZ0tyQaFYRgMGDAAgF27dtkma2k4nU5xp1QCSSUc1OSxePFixo0bB1jZVYfDwZ133gnAnj17/CrP+PHjS7yWm5vL//zP/wDWvVbu4AcffABY66zt27eX7O7hw4dZuHAhAGfOnAEgNTWVwsJCifUOHTrkV7nLo0Yrmu9sd+3aNQCOHTtGaGgoMTExAPz+978H4KOPPqpQTBZIlDLVq1ePe+65B4Avv/ySDz74gIYNGwKQlpYm7+nXrx9QPYpmGAbR0dGAlWF89tlnAa/SfPDBBxw/flwmr8zMTF544QUAVq5cSXBwsHgV/la0Y8eOlXgtPDxclkySkpLkXr/88suApWijRo2iW7duANxxxx2SQf3Nb34DwIkTJ0hMTOTbb78FrKUMu54VHaNpNDZQo2M09d7t27ezbt06wEr1tm/fXhasW7duDcCvfvUrPvvsM6D6snjKQvi6iaZpcvnyZX766SfAmyJv1aoVSUlJQOkLp4GWt2XLlixbtgyAbt260bhxY8Dr/l67do3NmzfL2llSUpIsYyxdupQGDRqI1VYWwl/yhoWFiQylXSsjI4O9e/cC3hK83NxcnE4nffv2BSA+Pl5i4O3btwPWWmB8fLyEHWfOnCnzO/xNjVY0RceOHWUxODc3F4fDwciRIwHYsmULABcuXJCFYxVnVIRAJBcKCgrkZoIVyKekpADQqVMneU3FkXZPDKGhoSQlJUmSwHdBXyU41HcdOHAAgGnTpom7NmLECKKjo3njjTcAZA3O3/Kq++g7lorLly8DyDpf8Zi8adOmfPrpp4A1qQD89NNPLFy4UFzT7777Tn5TReWtKjU6RlMkJycXUR6Px1MirmnYsCH33Xcf4K1uqC5WrlzJjBkz5O+CggKZOR0Oy1v3eDzVFks+/fTTNGvWjFOnTgFWJletR6lxVdUYatHY4XBw8eJFwLIEe/bskYKAQDF27FjA8mJ8JwDwrl2WxdmzZyVRdvz4ccAqepg3b54USpcWCwaKWmHRgoKCZMYqPnOpWjyHwyGzk8vlqnDWMRAWLSwsrIhLkp2dLRUhKp2ckpJSpZTyjcirlDw1NZXMzEzuuusuwJugAW+6PDU1tchnT58+LW5vvXr1SE5O5rvvvgO898Df8qrKjvHjx3PvvfeKN+D7mV/84heAZVWLf5fKLvpOcm63m4MHDwIwaNAg21xHnQzRaGygVriOHo+nSGmQ76yjYog777xTZrCuXbuWG6AHmuIulWEYrF69GkAWUdWir52oxf3Y2FiOHDlSxJIpVGKmSZMmRZI0zZo145133gHgpZdeIjs7O+Curxqrixcv8vPPP5OdnQ3AkSNHxK2cNGkSAB9//DEXL14sYl1VuKGWKCIjIwkKCpIlgJiYGE6fPh3Q36CoFYoWHh4uazbnzp3jwoULshFx/vz5gJUUUa7RY489xqxZs6pFVoVKEERGRhIRESHyqoyarztsl/c+aNAgwHKhvvzyy3Lfe+7cObp27crhw4flNfWAPvvss1J8HEiU0pw4cYI//vGPtGnTBoB+/fqJ0qm1taysLHbu3MmlS5eAohX+KuOr5FeTdteuXbWigXdAhg4dyvvvvw9YD8nnn38ui6cqLe07sPHx8dUgbVHuvvtuAP7v//4PwzDo0qUL4A3AmzdvLhajvBImf6KyjODNfpZHUlIS69evB+CBBx6Q+9GrVy+uXLlim0X+6aef+P3vf89HH30EWFlElbxJTk4GrGWJunXrSjV+YWGhPA/F5VSFxAkJCbbIDzpG02hsoUZnHZUr2LdvX3bv3g1407rK/1YuRHR0tLgNzZs3F//+egS6SFddX1kylXLu2LGjbPFJSEjg+PHj8psCtSN88uTJAKxatYpr167Rvn17oPwFc1UQcOLECbkfly5dokGDBrYVbYOVQVThwMKFC2VtTe3pW79+PVu2bJFs6bVr18RN37dvH2DFmdu3b+d3v/sdQKl70W7qdTQ12MV/pLqRX331lVTvr1y5EofDIUWwqhojLS1NHuKKKpkdmKaJYRh06NAB8CYkevbsyYMPPgjAq6++ytatW3nxxRcBb0zhb9R60uXLl6lfvz4//PADYMVcq1atAiiygOtwOKRiXykZwPLly21P5OTn58veuOHDh0tVipoIevXqRVpamhzFkJqaKmP997//HbAqQ/bs2VNikdoOaoRFK0vRSntP79692bt3r1g2leGbOnWqVG5X5iEItEU7f/68FBSD13qEh4cTEREBIMcuPPnkkwCyoOpveevWrQvAyJEjWb58uWyU9f2MmuVPnjxJq1atSlSKgJXgqejWnkCMb2RkpFTaqN+Un5/PyZMnZZLyeDykp6cDSMG0qia5EXmrio7RNBobqBEWrbJERUUxZ84cAP785z8DSDlRZQm0RZszZw6vvfbadd937do1SVWr8zBK40bk9V2LjI6OlqqKV155RfZ3lfd5tWlVxXoVIVDjW69ePQCJyxXKLTx37pzsR1PVOBUhYOpg2gxQo/4LtLxNmjQxPR5PqdcuLCw0CwsLzfT0dHPu3Lmmy+UyXS5XtchrGIZpGIZ54sQJ88SJE2ZhYaFpmqbp8XhMj8djrl69Wt5Tk8Z3z5495p49e2SM1Zju3LnTjIiIMCMiIvwqb1WplRbNn1zv59+ovMHBwaxdu1Z2G6iF66NHj7JgwQLAyopVtNIi0PL6EhwcLN9XU08q9o3d1XYYgIEDB3LkyJFKXy9Q6qAVzaYHtyIJn4pgp6L5AzvlDQ0NlQTT5cuXqzTWgVIHnQzRaGxAWzRtIQLKzSZvVdEWTaOxAa1oGo0N2O46ajS3ItqiaTQ2oBVNo7EBrWgajQ1oRdNobEArmkZjA1rRNBobsH2HdW2rBNDy3hg3m7xVRVs0jcYGtKJpNDagFS1AREREEBERwTPPPMOKFSto1KiRtIzV3Hro6v0ANblQjRQ6depU5BhzdUxaVU+Rutlinqr0y2vYsKE06FCnXh09etQvp1vpGE2jqcXUiHMdfTEMQ444U8eAz549W45+rkyTweoiJCREerR1796dUaNGSQMO1ZV08ODBVT4e4FbE6XRKz+81a9bI4bPqvMn8/HwmT54sx4bXtFr5GuU6qtOZHn/8ccA6nQms02j/8Ic/AHD48GGuXr0qfa1uVPEC4Yq1bNlSttR///33dOvWjU2bNgHIGY+dOnWSA0wrQyDkDQkJkXH09+PgD3mdTifTpk2T5yEqKqrUz3k8HjnxaubMmVVyzwOlDjXKojkcDiIiIuRhVP2Uu3Xrxr//+78DsGPHDr744gvOnDkjn4Gi/YjtPkW3OG63W05LLiws5OjRo/znf/4ngDQkHDlyJEuXLq02GcHb2Wb79u3S9O/OO++sTpGKoJSpQ4cOLFq0SHpSg1chfBXO4XAwdepUwDqp+OWXXwZqhhdUIxRNDZbH4+HcuXMsWbIEgOeeew6wHgj1ALRp04arV69Km1d1Hvtf/vIX/vnPf8p1qpNz586JawOWsqkTdH0D+urm/vvvB6zON2rC8tchQv6kf//+hIaGShungoICORJeTcYK9ffzzz9P586dAfjNb35jo7Slo5MhGo0N1AiL5jt7FhYWyvn0n376KQC/+tWvJJnQuHFj/u3f/o2MjAwA9u/fD1jdWsrrpWwnhYWF4ooZhoHT6RT5FYcOHaoO0QSn0yknKPs2sPjggw8AbyfN8lBWJVCumXou4uPjGTNmDG3btgWsHuX169cHvE1OSpNtxIgRALJ+mZaWVm3eTo1QtLL49a9/DVg3f8KECYD1UDRo0IBly5YB3ubmWVlZNcrdadeuHWA1jcjLyyvxQKiOoNXFAw88IE0cfVEdbl588cVyu9o4HA7i4uIAJF4OlMKdPXuWCRMmyGQVFRUl3Xl27NgBeNt5qWfA4/FII45Ro0YBlsKmp6dXi7LVaEVTN27SpEksX74csNrmOp1OXC4XgFiO0npdVScq+bF161Y2bNhA3759Ae+D0LlzZ7Zt21Zt8r300ktF/i6eXPjmm29o3LhxiX7cgLTNmj59OoD0ti6vz9qN4na7ZTkkJyeHc+fOAd7JOD4+nuDgYEmIZWdn89133wHQo0cPwOo8FB8fLx1W7fSAdIym0dhAjbZoCrfbLV0aDx8+zGuvvSbxwZ49ewDLQlR3ttEXFRcMGTKE1NRUYmNjAa/lGDp0KIsXLy7ymp2UZql8iY6OZt++fbJI7NsTOjg4GJfLJVb6wIEDAHz88ccBlLh0VCfYzz//nMGDB8vr2dnZYmGV99O0aVNcLpf8do/HY9vY1wpFA2/K/p133mHXrl2yAKx89ddee43Zs2dXm3y+mKbJ119/DViTRN26deWmK/enc+fOZbYesoNx48ZJu9+goCCpE1SxDlgul2oW/9xzz4mrFRUVRXR0NDExMQCSmKoO1HPxyiuv0LdvX1kbjIuLk4SJakjYrFkzNm7cKONt5wRXoypDKnMNFRj7zsxq7aoysUKginQffvhhwErWhIaG0qlTJ8BKQoD1gKiWr+PGjatwOZY/5VVtaZctWybXveOOOwCIiYkpcq28vDzS0tIAK3auV6+eLCA3aNAAKF3h7Oomc88997BkyRJatGgBWLG7yqb69jufMmWKZLNLS97oomKNphZTKy2aL8qi+VYOqK0oFSEQM65hGGIZmjdvTtu2baW5+fDhw+V7lbvWr18/EhMTq03esLAw8Qbuu+8+wCoRu+uuu0qs//mixlvFQKVZ5UBbNOXqPvPMM4wbN05i9xYtWkhxuvoNpmly4MABxo4dC8CFCxcqLW9VqTUxWlkotyUrK0vKb9atWyfrQdVBZGSkFMDWqVOnSP2merAyMzNlCaAqDfP8SW5uLj///DPgXUj/+uuvadq0qUwYqpwJrN5jCQkJbN26Fah6k8KKEhISQnh4uHxPQUGBxGYqSTZp0iTq1q0rY/mPf/xD3j9jxgzAmlCCg4NFAUtTtEBR6xTN4XBgmqbMPNnZ2QDs2rWLoUOHAjBx4kSefPJJCYLtQinRypUrZe3m/PnzZGdni6KpB2T48OGSMKkJC+3KOp0/fx6wYrSEhARJOpmmWeRBtwMVA44ZM4aHHnpI1krT09PFa1EVLBEREWRnZ8s9/8c//kFSUhLgXWPt2LEjBw8etFXBFLXCdTQMQwJb9X/1wKoHJCIioki1RX5+fpEMWln407Xp0qULYJWFqcTAU089xcmTJ2VWfeyxxwCrlKwqi+yBdsXq1KkDWMsTly5dkonM7XYHpINmefIqN/btt9+mYcOGouAZGRkSMqjkh8PhwO12ixIdPHhQyvNOnToFwMmTJ0lOTpakTmnLQToZotHUYmqF6+jrKgYHB1O/fn1xK9RaUE5OjuzInjJlCiEhIbJOdfnyZVvkVLV/Fy5cYPXq1YC1oJqbm8t7770HIJta27VrJwu9NQm1DhUWFkZOTk61FgGoc0FiYmIIDQ0VDyUiIkISSSouV0s+zZo1A6x7MXr0aAC2bNkCWGuBFy9e1LWO5e2FUoNz7do1DMNg5MiRAFL46na7mT9/PgCTJ0/GMAxWrFgBePddBRp1kw8ePCgPRdOmTUlLS5P9dOr1TZs2yftrUkWLin2KV474HjBkF2p3Qfv27RkxYoTIZhjGdcMC33Bj3759AKSkpFTb8RE1KkYrnugo7xqqIkSVOh08eFASDl999RUxMTGihG3atCnzWv6MedQGw0mTJtG1a1cArl69Sk5OjvytiqDV+wDWrl1b4e8IdIym4kywYhrfGFjFlJVJhvhD3rCwMMaOHct//dd/AUjFx/W+V8WXZW2lKetzgUDHaBqNDdQoi1YZlBuh9iPt3r1bSorGjx9PVFSUnMkxa9asMmcqf1oI3/1SKj6YNm0anTp1kpjS1+VRBdFDhgyp8EwaaIvWv39/wIqLvvrqK3l9/PjxIu/x48erRV61GD1x4kQpyFbrqGBlmj/55BMAnnzyySql8QOlDrVW0RTvvvsuYKWClVsWFhaG2+1m2LBhgJVuLysOsqMWz+FwSJJh3rx58m9//OMfAWR/VEUItLy9evUCYMGCBWzZsoW6desCVtyr9p2tXLmywnu5AiWvmmjV/T9x4gQrVqy44QJnrWhloCzEwIED5aSspk2b8t5770nlRXlbQm7lk39LQ43n888/z5QpU6Q0Kzc3l/HjxwPwxRdfVDiBY1dRsb8eY61oFcD37IuKJFXU+8rjVlM0RVRUFLt27aJnz54AbNy4UXYkqKP0KsLNNr5VRSdDNBobqFHraDdKTVqPqu3k5OSwfv16meHnzp3rlyYStyo3letYFW4218Zf8hqGgcvlkqRHfn6+7bWO1YHeJqOxnby8PHnwasIOg9qM7RZNo7kV0ckQjcYGtKJpNDagFU2jsQGtaBqNDWhF02hsQCuaRmMDtq+j1bYFyltB3kDunr7Zxreq1MoFa9+bo5cBq44qwm7durWco6/aE2v8S61UtKioKGlAePz4cUAr3I0wffp0nnjiCQA5XFSPp3/RMZpGYwO10qLl5OTI3ii12VPPwJVH7Xa4evWqHLUwc+ZMADkIpyZiGIZYXtXX2u12c+zYsUrtlbMV02aAG/4vJCTEPHPmjHnmzBmzdevWZuvWrat8rUDJGxkZaUZGRppLliwxz58/b2ZkZJgZGRlmamqqmZqaar7++uvynuqWt0ePHmZBQYFZUFBg5ufnm/n5+eaUKVP8cq/8KW9wcLAZHBxsTp8+3UxOTjaTk5PNvLw8My8vzywoKDAvXbpkzpkzx5wzZ44ZGhoaEHmrinYdNRobqLX70T788EPAe5ZiUFBQlZp/X+/nV0ZedWpufHw8Q4YMEblMnxZNpR38eeLECTp06FBtRy8YhsGzzz4LwKuvvgpYGcnCwkJxzdT59ZXFH/JGRkbyySefSOOQS5cusXHjRgDptzBt2jSioqLkECSPx0NqaipgNbeAip1HGSh10BZNo7GBWmvRVPCuTqPdvXu3WJHK4E8Lod777rvv8uijj8rrR48e5cknnwSszihgtbBV78/LyyMyMrJCx1UHwqKBtyuLaiUVHBxMdHS0eAnh4eFVatd0I/Iq6//0008zc+ZMLl68CMAbb7whPRfatWsHWI0IW7ZsKacSBwcHy3dPnjwZsM4AvXbtWrkyBUodamXWEazMoy+DBw+Wcx2L/5tdqJuUn58vh6kWFBRw+vRpOZ5cHYG3bt06eY9yL6sT5WapRuoXLlygT58+0s1z9+7d3H333bbKpNzWAQMG8Nlnn8kBrvv375f2UuoA1fT0dBo2bCjuu9PplKzq1KlTAcud9O2PZucZKLVW0Urj5MmTAHIGf3URFxdX5Ib379+fQYMGAdZ5iUCRlrU5OTlVii/9ibKmquNnbGwsO3bskDa0AwYMoG/fvgAkJCTYIlPLli0By3s5cOCAxIlhYWGiaCkpKQCsWbOG1q1by2nVOTk5Er+p3xYZGUnTpk2JiIgA4IcffrBt3HWMptHYQI22aKoWLzY2VrKLjzzyCN988w2ff/454HXXDMMQNyIiIqJSx2z7CxVv9OnTp8jrsbGxLFmyBCh6Vrxi3LhxgRfuOqhxVAvVy5cvZ/PmzWKZR48ezfr16wG47bbbbHF1Vf1lvXr1iI2NlZAgOztbXFxlgU3TxOl0Sk+80NDQIu8Hy0WPjIwUl/TMmTNFusQGkhqpaMqtunbtGlD0BGKwEgm//e1vAW/K1tcVW7NmTbU8vErR1Hn1vq+X5s6qBu0q9rATwzBEiTwejyiOaraenZ3NwIEDpT9A586d5Tc0atSIc+fOBVxG5So2aNCAIUOGSKImJSVFlEfFWaZpYhiG/N2yZUupHlF9uYOCgnC73dIso2HDhrYpmnYdNRobqJEW7a9//SvgtWRut5vk5GQAMjMziYqKIjY2Fii9ydzYsWOpX7++uBd2oazCtm3bePDBB0t9j7LAzZo1q1JboRtBWdwXXniBl156SV7fsmULzz33HACtWrUC4Pvvv2fChAmMGTMGsORWn09MTKRVq1bicQQKlalVuzXmzJkDWC5fYmIiULIPgHpm4uLimDt3LgDLli0DrGRZfn6+7Py4dOmSPFeBdoW1RdNobKBGWrS//OUvADz00EOAtUbSuXNnwJuqVfGFagSv0r2KsWPHimW0CzUrLliwgAkTJgDe5nkKFQOlpaXZKht45Xv//fdZsGCBzP6DBw+W0iUVz8THx9O1a1cpXwoKChKLFhMTw4gRI/j4448DKq+ymGo9TMXhERERpVbpm6Ypr//000+SeHrllVcAq/3yzz//LO9JSEiwb/0yYOXKZUAFKqidTqfpdDrlMx6PRyq3i793yJAh5pAhQ0p8T2Jiou3V5UruRo0amfv37zf3799f4nq5ublmbm6u6XA4qrUafuvWrUU+Fx8fb8bHx8s4O51OMzQ01OzRo4fZo0cPMzEx0XS73abb7TY9Ho955MgRMygoyAwKCgqYvC6Xy3S5XObhw4fN/Px8Mz093UxPTzdff/11s06dOmadOnXK/GxQUJA5ffp0c/r06WZmZqaZmZlpHj161Hz++efN7t27m927dzdDQkJsq96vkYpW2o8+deqUeerUqRLvMQzDNAzD9Hg8Rd5/7do12x5ch8NhOhwOs0mTJmaTJk3MFi1amCNHjjRHjhxpfv/996bb7S5x3ebNm1erooWEhJhZWVlmVlaWaZqmWVhYaBYWFpohISFmSEiIaRhGkd/WsmVL2Zri8XjMq1evmr169TJ79eoVMHmVIi9dutTMysoyz58/b54/f95csmSJGRsba8bGxpb7eaVQ2dnZZnZ2tpmQkGB27NjRDA8PN8PDw+U32qFoOkbTaGygRsZopdG8eXPAagKueikD4mN/++23so0CSt+O4m9uv/12AB577DHAW+i8ceNGjh49ClixYr9+/ViwYAGAtKodNmwYK1euDLiMZZGfny+N4Q8dOiTx2ssvvwxYfarPnj0rbYkvXbrEtm3bAJgxYwYul0u2qtx2220BkVHd202bNjF69GgpQjh16pSMdXp6eqmfdTgcUjKmyqzeeecdTp48KZlf08b60hqtaJs2bQKQejuApUuX0q5dO5555pki750+fbosaIKVyvZ3f+PiKBlU4kMlatxutzwUycnJxMfHy9+LFi0CrAA/0PJdDzUZ7N+/X5TugQceAOCee+7B4/FI+jstLU3eY5omDodDJj/VuL0iuw8qgxqXpKQktm/fLskNlbABpOhZvV/J0qVLFxYvXgxYSxUAO3fuLNKKyk6066jR2ECt2I+yJ1KpAAANSUlEQVSWmJhI9+7di7w2b948wGshIiIiOH36NGCVQBUUFIj7WN5PvN7PL09eteQwY8YMwEqTg+XaqMXyjIwMfvzxRylfUssQa9eulSr4yrQEvhF5y2LAgAFs374dgOHDhwPW4m7nzp2ZOHEiAH379qVZs2aAVSTg+z2qeEDtF/OXvMqdDQ8P5+6775blngsXLkitq1omGTNmDB07dhSr26hRI7n2sGHDAPj73/9+XXkCpQ61QtEA2f7www8/YBiG1Amq10NDQyVmWr16NbNnz5aYojz88eCqB0K5NnfffbecztW+fXtM05S44McffwRg4cKF7N69G4CsrKzrfoc/5S1ObGysuIz//d//DZSu/GqtbezYsbz55pvitqlqkqysrBLy3Yi86t8iIiIYMGCA1F3GxcXJWphap4yNjS2y1uf73cVrZcvjllc0X8LCwmTB2rdKX11bnXdREQLx4DocDho3bgzAqlWruOeeeyR2UN+XkZHBW2+9BVhBekXLxQIhr+/+rsospKvvUv8vTTn9IW9QUBDt27dn1apVgHUGiFq8VkpUWFhIXl6eTFpr166V8VWbWitCoNRBx2gajQ3USovmTwJhIUpDubgqAwZel/HRRx9l69atFbLCdsnrLwIhb3U25agq2qJpNDagLZrNFqK061XmFmiLFlgCpQ41esH6ZqS6Fqc11Yt2HTUaG9CKptHYgFY0jcYGbE+GaDS3ItqiaTQ2oBVNo7EBrWgajQ1oRdNobEArmkZjA1rRNBobsL0Eq7bVtml5b4ybTd6qUmtqHX03GfoOhl4G1NQGaoWi+fa96tWrF8HBwZw4cQKwjjYAS+GqW+nUbl+XyyXdKuvVq8fly5flPJPMzMzqEq9SVPcJXTcbOkbTaGyg1li0hx9+GICnnnqKiIgIaemjTm3Kzc2VcwWVdVMWxjAMW3oV/8u//AsATzzxBO3btwcsK+fxeKRxXqNGjQBv+6aaxn333QfAiy++SGZmJk888QRgNY2ojoNHfYmLiwPgzTffpHfv3oD3TM1Dhw5V6jQxu6kVGz9bt27Ne++9B0Dv3r1xOp1ygm6nTp0A61CZ4g+COiEpODiYwsJC+Ywv/gjW1XtUh8q4uLgyP/f+++8D8Pjjj1fpwNFAJRdUl1J1SFDx62RlZbFhwwbAOmXs66+/lta1gTrOz5c6derIga/q2Dvf66elpTF06FCSkpKAyh3h54s+ykCjqcXUCtexXr16kvTo1KkTUVFRcjiqsgq+fZjBctlUs/GoqChSUlICFuArFzUiIgKgiJvqcDiKnCs4efJkAPbu3cuf/vSngMhTWSIjI2V8y7IwUVFRPPLIIwDce++9vP3227z99tuAdXReoOndu7cc1FoaMTExbNu2TTqZfvbZZ6SkpABFjySsLmqFoh07dkxOJv7iiy9YvHhxiYbybre7xAOrDvacOXMm8+fPl3Pk/Y1quHDgwAHAcsNUM/U2bdpw2223iRKqB/n111/nww8/BOx5UMvjqaeekt+gTuYKCgoiODhYzs8E74QQFhbGsGHDpGFkoOU3DIMuXbqIwoSEhIjbqrK5Fy5cIDExUc6lDA8PJzw8HPA+I0r+6pjYakWM5nQ6xSqEhYWxY8cO+vTpA3j99bS0tBIDqA4F7dOnD8eOHZOe0b4Wxx8xhArSu3TpAsA333wjNzc6Opr+/fvzxhtvAN6uOICcvPvCCy9c9zv8Ka9CHeqalJQk8euQIUMAa/KYNGkSM2fOBKyTgFXck5GRwZYtW3jxxReB0o8C96e8ISEh9O/fn9mzZwNwxx13yOc2b94MwEsvvUR6erqcYOy73FOWDKW9rmM0jaYWUyssmm+MY5omkZGRvPrqqwDShGHUqFHStknNvL4xWWVmtYrKq+LE//iP/wCsY6gBvvvuuyIzK3j7LyvXLCQkROQMDg6ucJbMXxbNMAzJMEZHRzNr1iwAibsMw6B3797SH8C3R/jZs2fp1KlThRbfb0TeqKgoAOrXr09hYaE8B8OHD5eGF6oH2qxZs1i5cuUNL5toi6bR1GJqtEVTgXiHDh3EIqSkpFBQUCCxWWJiImAFxb/73e8AK0bKzc2VuKM8a3EjM66KzVSHGJUUGDVqlKzn5OfnF7nOkSNHAO/6H0CTJk0keXI9/GXRunXrxrfffit/q7hVJUUaNmzI5s2b6datW4nPvvXWW2IBAynvu+++C1jtsLZt2ybraF27dpXxGzhwIGC1ZBo/fnypa6WV4ZYsKlb9w3r27Ck3JDs7m4SEBPbu3Qt4A/pWrVpJYLx69WpeffXVgGUZFSrhoRbGVQ+0u+66S87YLygoKOK6qiyZr6J17dq1wormL1QLXYWa1C5fvgxYk5PK2ilUdcsf/vAHGyT0uqtt2rRh2rRpUhBw/vz5Eh1sevbsycCBA9m5cydQ/UsmxdGuo0ZjAzXaoqkUvi/R0dEMHz6coUOHAkVdD9Uob8qUKaxZsybgFk3N/mpNR7ldderUKRGU+/ZuK07btm3ZtWtXIEUtgSq5Ko4aw+KYpsnjjz8OeC1boPnb3/4GwPjx43G5XNLo8ccff+TMmTOA1SsNrGKBdevWSWJq8eLFNcqq1UhFU+5geZTXxdHlconLFkjU9efOnQt4Y4revXsX2T9nGIbEmG3bti1xnbIe+kCyZs0aaVfsm1Esi3PnzolbZheqY+tbb73Fv/7rv4qc+fn58m87duwArGqVSZMm8frrr8vfv/zlL4Ga4UbWyGSIqqK4cuVKqf/u8Xgk8aAsQe/evWUPmGEYTJ8+nb/+9a9A4IteVYymEh/Z2dnSDy0jI4PQ0FBZqFYPq0qkABw9epQePXrY1h/NMAy6d+/OnXfeCVj9n5XSqSSTuo5aAli+fLnEdcqCVwR/je+6desYMWIEYFWBvPPOOwDS1dMwDHr16sWXX34JWJN1eno64G157A95q4qO0TQaG6iRFk1lwNSsHx4eLpZLzbi+i73qb3Xt1q1b06RJE/75z38C5e/98mdJk5rpXS6XWLcNGzaQnZ0ti9vHjx8HrEzayJEjAStbmZ+fT8+ePYGiXUH9Ka8a12HDhtG/f38Z04SEBBlP5dquW7eO22+/Xazs4cOHZb/doUOH5PddD3+Or1qc3rNnj4yn+n/xexwZGSkWTf1bTEzMdeXWFk2jqcXUqGSIw+EgKChIZt7z588D1iwzevRowNr+UK9ePUmGjB8/HrBiHzVbuVwunE6nZAEzMzNt2X3ra9FU8mPixInk5OSQmpoKwPr16wErLlPrVBMmTCA8PFyq/1Xpkb9Q4zl//nwAnn76aRwOB/369QPg+eeflx3rKs7Nzs7G4/GIx9ClSxcWLVoEwBtvvMGBAwckhlYWo/hWJX+jvIHk5GQ6dOgAwNSpUwFYsWJFkXt85coVyVofPnwYsIoFOnToUC07sWuU6xgUFERUVJQkQ9QDUlhYKC7NokWL6NOnj/ybGrQzZ85w7NgxwDouIC0tjWXLlgHw6aefcuXKlVIH2J+ujdqBrJS/tO9Rk0dycrL8hm7duhVJq6tJpCrV5aXJq1xwtecsNDQUwzBkPHJzc8XNUpm98PBwQkJCilxPKdSWLVuYN28eJ0+elM+XhT/H1+VyAfDII49w//33A9ZyD8CqVauIj4+XPWimaYpb6bsTfMaMGfz5z38uUzbtOmo0tZgaZdEcDgfh4eFSyqQOhunRo4fU3EVHRxMUFFRiHa2wsFBKorKysti/fz+rVq0CLHfz6tWrpe5P8ueMe/vttwOWq1KRz6nvLv5etTNcpdZL+0xZFL+WSnsDkhwqPnYV/Y3KNZ84cSKffPJJhWZ/f46vcmNjYmLkumqtbNasWXTo0EHG7LPPPmP79u2A111XOxbU0ktpuw9uiVpHj8dDXl6eVB6o3bJut1uyX6pYWLkDhw4dAqwYTRWdpqSkkJ2dLZUbdixegzdbmJSURNeuXa/7/rIeMn+e2GWaplRRKFcvODiYtLQ0GZ/27dvL6VzK3SqN5cuXA7Bx40a/yVcZlKt76dIlOcLio48+AqyY95NPPqFNmzaAldV97LHHSlyjTp06tGjRAvA+O3ZQoyxa8ff4Voio15xOJ263Wwb9Rh/KQJwqVa9ePcaOHQtA06ZNuXz5smzDV1UkLVu2lJhDVY+oGbZ+/fplylYVeVUsqBZuMzMzyc/PLxKzKiunrMDgwYNxOBzyfStWrJDd1pV5ZPy5f87XEpd23yMjI2USGDRoUKnVQ3l5ebKssmfPnkrLW1V0jKbR2ECNtGh2crM1YdDylkSd5eJwOLh48aJsSSrNKmqLptHUYrRFqwEzbmXQ8gYWbdE0mlqMVjSNxga0omk0NqAVTaOxAduTIRrNrYi2aBqNDWhF02hsQCuaRmMDWtE0GhvQiqbR2IBWNI3GBrSiaTQ2oBVNo7EBrWgajQ1oRdNobEArmkZjA1rRNBob0Iqm0diAVjSNxga0omk0NqAVTaOxAa1oGo0NaEXTaGxAK5pGYwNa0TQaG9CKptHYgFY0jcYGtKJpNDagFU2jsQGtaBqNDfw/hAGRo9R4qr4AAAAASUVORK5CYII=\" y=\"-6.64\"/>\n   </g>\n  </g>\n </g>\n <defs>\n  <clipPath id=\"p0189889b1b\">\n   <rect height=\"217.44\" width=\"217.44\" x=\"7.2\" y=\"7.2\"/>\n  </clipPath>\n </defs>\n</svg>\n",
      "text/plain": "<Figure size 432x288 with 1 Axes>"
     },
     "metadata": {
      "needs_background": "light"
     },
     "output_type": "display_data"
    }
   ],
   "source": [
    "plt.imshow(display_image(epochs))\n",
    "plt.axis('off')# Display images"
   ]
  },
  {
   "cell_type": "markdown",
   "metadata": {
    "colab_type": "text",
    "id": "NywiH3nL8guF"
   },
   "source": [
    "### Generate a GIF of all the saved images."
   ]
  },
  {
   "cell_type": "code",
   "execution_count": 29,
   "metadata": {},
   "outputs": [],
   "source": [
    "anim_file = 'cvae.gif'\n",
    "\n",
    "with imageio.get_writer(anim_file, mode='I') as writer:\n",
    "  filenames = glob.glob('image*.png')\n",
    "  filenames = sorted(filenames)\n",
    "  last = -1\n",
    "  for i,filename in enumerate(filenames):\n",
    "    frame = 2*(i**0.5)\n",
    "    if round(frame) > round(last):\n",
    "      last = frame\n",
    "    else:\n",
    "      continue\n",
    "    image = imageio.imread(filename)\n",
    "    writer.append_data(image)\n",
    "  image = imageio.imread(filename)\n",
    "  writer.append_data(image)\n",
    "\n",
    "import IPython\n",
    "if IPython.version_info >= (6,2,0,''):\n",
    "  display.Image(filename=anim_file)"
   ]
  },
  {
   "cell_type": "markdown",
   "metadata": {
    "colab_type": "text",
    "id": "yQXO_dlXkKsT"
   },
   "source": [
    "If you're working in Colab you can download the animation with the code below:"
   ]
  },
  {
   "cell_type": "code",
   "execution_count": 30,
   "metadata": {},
   "outputs": [],
   "source": [
    "try:\n",
    "  from google.colab import files\n",
    "except ImportError:\n",
    "   pass\n",
    "else:\n",
    "  files.download(anim_file)"
   ]
  }
 ],
 "metadata": {
  "accelerator": "GPU",
  "colab": {
   "collapsed_sections": [],
   "name": "cvae.ipynb",
   "private_outputs": true,
   "provenance": [],
   "toc_visible": true,
   "version": "0.3.2"
  },
  "kernelspec": {
   "display_name": "Python 3",
   "name": "python3"
  },
  "language_info": {
   "codemirror_mode": {
    "name": "ipython",
    "version": 3
   },
   "file_extension": ".py",
   "mimetype": "text/x-python",
   "name": "python",
   "nbconvert_exporter": "python",
   "pygments_lexer": "ipython3",
   "version": "3.7.4-final"
  }
 },
 "nbformat": 4,
 "nbformat_minor": 0
}